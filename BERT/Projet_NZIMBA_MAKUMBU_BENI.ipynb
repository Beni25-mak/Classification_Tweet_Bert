{
 "cells": [
  {
   "cell_type": "markdown",
   "metadata": {
    "id": "4fkdaw9bgJww"
   },
   "source": [
    "1. Installation des Bibliothèques"
   ]
  },
  {
   "cell_type": "code",
   "execution_count": 2,
   "metadata": {
    "id": "kofXED5pLFz-"
   },
   "outputs": [],
   "source": [
    "import pandas as pd\n",
    "import numpy as np\n",
    "import matplotlib.pyplot as plt\n",
    "import torch\n",
    "import torch.nn as nn\n",
    "from sklearn.preprocessing import LabelEncoder\n",
    "from transformers import BertTokenizer\n",
    "from torch.utils.data import Dataset, DataLoader\n",
    "from transformers import BertTokenizer, BertForSequenceClassification\n",
    "from sklearn.model_selection import train_test_split\n",
    "from transformers import BertModel\n",
    "from tqdm import tqdm\n",
    "#from transformers import DistilBertTokenizer, DistilBertForSequenceClassification"
   ]
  },
  {
   "cell_type": "markdown",
   "metadata": {
    "id": "fp1-avE-gSAd"
   },
   "source": [
    "2. Chargement des données"
   ]
  },
  {
   "cell_type": "code",
   "execution_count": 3,
   "metadata": {
    "colab": {
     "base_uri": "https://localhost:8080/",
     "height": 363
    },
    "id": "iTkhtYA8bDpN",
    "outputId": "316de44f-e9ff-4eda-c7c1-f9e47915c0ad"
   },
   "outputs": [
    {
     "data": {
      "application/vnd.google.colaboratory.intrinsic+json": {
       "summary": "{\n  \"name\": \"ben\",\n  \"rows\": 39650,\n  \"fields\": [\n    {\n      \"column\": \"Tweet_ID\",\n      \"properties\": {\n        \"dtype\": \"string\",\n        \"num_unique_values\": 39650,\n        \"samples\": [\n          \"ID_EK12RLFO\",\n          \"ID_UH619161\",\n          \"ID_SX7D8XRT\"\n        ],\n        \"semantic_type\": \"\",\n        \"description\": \"\"\n      }\n    },\n    {\n      \"column\": \"tweet\",\n      \"properties\": {\n        \"dtype\": \"string\",\n        \"num_unique_values\": 39642,\n        \"samples\": [\n          \"i remember suffering so vividly. today was a selfie i took moments before he came and verbally abused me the minute he walked into my car, then screamed at me in public in front of a group and i then went to the bathroom and cried for 20 minutes. btw, not one person said anything\",\n          \"he raped me and threatened su*cide when I tried to leave. forcing me to stay. actually alot of times I did question it and he would yell at me.\",\n          \"Guy who raped me in college is now a psychiatrist. He was obsessed with serial killers, w/posters of the movies about them above his bed. I was really guilty for a while about not reporting. But in retrospect, I don't think anyone in a position of power would have believed me.\"\n        ],\n        \"semantic_type\": \"\",\n        \"description\": \"\"\n      }\n    },\n    {\n      \"column\": \"type\",\n      \"properties\": {\n        \"dtype\": \"category\",\n        \"num_unique_values\": 5,\n        \"samples\": [\n          \"Physical_violence\",\n          \"economic_violence\",\n          \"emotional_violence\"\n        ],\n        \"semantic_type\": \"\",\n        \"description\": \"\"\n      }\n    }\n  ]\n}",
       "type": "dataframe",
       "variable_name": "ben"
      },
      "text/html": [
       "\n",
       "  <div id=\"df-b09eb78d-4abe-4370-be69-7ccd6960b579\" class=\"colab-df-container\">\n",
       "    <div>\n",
       "<style scoped>\n",
       "    .dataframe tbody tr th:only-of-type {\n",
       "        vertical-align: middle;\n",
       "    }\n",
       "\n",
       "    .dataframe tbody tr th {\n",
       "        vertical-align: top;\n",
       "    }\n",
       "\n",
       "    .dataframe thead th {\n",
       "        text-align: right;\n",
       "    }\n",
       "</style>\n",
       "<table border=\"1\" class=\"dataframe\">\n",
       "  <thead>\n",
       "    <tr style=\"text-align: right;\">\n",
       "      <th></th>\n",
       "      <th>Tweet_ID</th>\n",
       "      <th>tweet</th>\n",
       "      <th>type</th>\n",
       "    </tr>\n",
       "  </thead>\n",
       "  <tbody>\n",
       "    <tr>\n",
       "      <th>0</th>\n",
       "      <td>ID_0022DWKP</td>\n",
       "      <td>Had a dream i got raped last night. By a guy i...</td>\n",
       "      <td>sexual_violence</td>\n",
       "    </tr>\n",
       "    <tr>\n",
       "      <th>1</th>\n",
       "      <td>ID_00395QYM</td>\n",
       "      <td>he thought the word raped means sex and told m...</td>\n",
       "      <td>sexual_violence</td>\n",
       "    </tr>\n",
       "    <tr>\n",
       "      <th>2</th>\n",
       "      <td>ID_003EOSSF</td>\n",
       "      <td>She NOT TALKING TO ME I WAS RAPED BY 2 MEN 1 M...</td>\n",
       "      <td>sexual_violence</td>\n",
       "    </tr>\n",
       "    <tr>\n",
       "      <th>3</th>\n",
       "      <td>ID_004BBHOD</td>\n",
       "      <td>I was sexually abused for 3 years at age 4 to ...</td>\n",
       "      <td>sexual_violence</td>\n",
       "    </tr>\n",
       "    <tr>\n",
       "      <th>4</th>\n",
       "      <td>ID_004F7516</td>\n",
       "      <td>Chessy Prout can do better by telling the trut...</td>\n",
       "      <td>sexual_violence</td>\n",
       "    </tr>\n",
       "    <tr>\n",
       "      <th>5</th>\n",
       "      <td>ID_0052TYKI</td>\n",
       "      <td>Yes men rape women. But women also rape men, y...</td>\n",
       "      <td>sexual_violence</td>\n",
       "    </tr>\n",
       "    <tr>\n",
       "      <th>6</th>\n",
       "      <td>ID_0058QG76</td>\n",
       "      <td>My Husband Beats Me Frequently, Wife Tells Cou...</td>\n",
       "      <td>Physical_violence</td>\n",
       "    </tr>\n",
       "    <tr>\n",
       "      <th>7</th>\n",
       "      <td>ID_005VM1DJ</td>\n",
       "      <td>Pretty sure he raped a 16yr old girl with 2 fr...</td>\n",
       "      <td>sexual_violence</td>\n",
       "    </tr>\n",
       "    <tr>\n",
       "      <th>8</th>\n",
       "      <td>ID_0060BW8R</td>\n",
       "      <td>TW sorry to hear that  and yeah he recently th...</td>\n",
       "      <td>sexual_violence</td>\n",
       "    </tr>\n",
       "    <tr>\n",
       "      <th>9</th>\n",
       "      <td>ID_007FAIEI</td>\n",
       "      <td>\"I understand that... My father was abusive as...</td>\n",
       "      <td>sexual_violence</td>\n",
       "    </tr>\n",
       "  </tbody>\n",
       "</table>\n",
       "</div>\n",
       "    <div class=\"colab-df-buttons\">\n",
       "\n",
       "  <div class=\"colab-df-container\">\n",
       "    <button class=\"colab-df-convert\" onclick=\"convertToInteractive('df-b09eb78d-4abe-4370-be69-7ccd6960b579')\"\n",
       "            title=\"Convert this dataframe to an interactive table.\"\n",
       "            style=\"display:none;\">\n",
       "\n",
       "  <svg xmlns=\"http://www.w3.org/2000/svg\" height=\"24px\" viewBox=\"0 -960 960 960\">\n",
       "    <path d=\"M120-120v-720h720v720H120Zm60-500h600v-160H180v160Zm220 220h160v-160H400v160Zm0 220h160v-160H400v160ZM180-400h160v-160H180v160Zm440 0h160v-160H620v160ZM180-180h160v-160H180v160Zm440 0h160v-160H620v160Z\"/>\n",
       "  </svg>\n",
       "    </button>\n",
       "\n",
       "  <style>\n",
       "    .colab-df-container {\n",
       "      display:flex;\n",
       "      gap: 12px;\n",
       "    }\n",
       "\n",
       "    .colab-df-convert {\n",
       "      background-color: #E8F0FE;\n",
       "      border: none;\n",
       "      border-radius: 50%;\n",
       "      cursor: pointer;\n",
       "      display: none;\n",
       "      fill: #1967D2;\n",
       "      height: 32px;\n",
       "      padding: 0 0 0 0;\n",
       "      width: 32px;\n",
       "    }\n",
       "\n",
       "    .colab-df-convert:hover {\n",
       "      background-color: #E2EBFA;\n",
       "      box-shadow: 0px 1px 2px rgba(60, 64, 67, 0.3), 0px 1px 3px 1px rgba(60, 64, 67, 0.15);\n",
       "      fill: #174EA6;\n",
       "    }\n",
       "\n",
       "    .colab-df-buttons div {\n",
       "      margin-bottom: 4px;\n",
       "    }\n",
       "\n",
       "    [theme=dark] .colab-df-convert {\n",
       "      background-color: #3B4455;\n",
       "      fill: #D2E3FC;\n",
       "    }\n",
       "\n",
       "    [theme=dark] .colab-df-convert:hover {\n",
       "      background-color: #434B5C;\n",
       "      box-shadow: 0px 1px 3px 1px rgba(0, 0, 0, 0.15);\n",
       "      filter: drop-shadow(0px 1px 2px rgba(0, 0, 0, 0.3));\n",
       "      fill: #FFFFFF;\n",
       "    }\n",
       "  </style>\n",
       "\n",
       "    <script>\n",
       "      const buttonEl =\n",
       "        document.querySelector('#df-b09eb78d-4abe-4370-be69-7ccd6960b579 button.colab-df-convert');\n",
       "      buttonEl.style.display =\n",
       "        google.colab.kernel.accessAllowed ? 'block' : 'none';\n",
       "\n",
       "      async function convertToInteractive(key) {\n",
       "        const element = document.querySelector('#df-b09eb78d-4abe-4370-be69-7ccd6960b579');\n",
       "        const dataTable =\n",
       "          await google.colab.kernel.invokeFunction('convertToInteractive',\n",
       "                                                    [key], {});\n",
       "        if (!dataTable) return;\n",
       "\n",
       "        const docLinkHtml = 'Like what you see? Visit the ' +\n",
       "          '<a target=\"_blank\" href=https://colab.research.google.com/notebooks/data_table.ipynb>data table notebook</a>'\n",
       "          + ' to learn more about interactive tables.';\n",
       "        element.innerHTML = '';\n",
       "        dataTable['output_type'] = 'display_data';\n",
       "        await google.colab.output.renderOutput(dataTable, element);\n",
       "        const docLink = document.createElement('div');\n",
       "        docLink.innerHTML = docLinkHtml;\n",
       "        element.appendChild(docLink);\n",
       "      }\n",
       "    </script>\n",
       "  </div>\n",
       "\n",
       "\n",
       "    <div id=\"df-6dc2efe4-d92c-490e-8f73-b9d634a8aa00\">\n",
       "      <button class=\"colab-df-quickchart\" onclick=\"quickchart('df-6dc2efe4-d92c-490e-8f73-b9d634a8aa00')\"\n",
       "                title=\"Suggest charts\"\n",
       "                style=\"display:none;\">\n",
       "\n",
       "<svg xmlns=\"http://www.w3.org/2000/svg\" height=\"24px\"viewBox=\"0 0 24 24\"\n",
       "     width=\"24px\">\n",
       "    <g>\n",
       "        <path d=\"M19 3H5c-1.1 0-2 .9-2 2v14c0 1.1.9 2 2 2h14c1.1 0 2-.9 2-2V5c0-1.1-.9-2-2-2zM9 17H7v-7h2v7zm4 0h-2V7h2v10zm4 0h-2v-4h2v4z\"/>\n",
       "    </g>\n",
       "</svg>\n",
       "      </button>\n",
       "\n",
       "<style>\n",
       "  .colab-df-quickchart {\n",
       "      --bg-color: #E8F0FE;\n",
       "      --fill-color: #1967D2;\n",
       "      --hover-bg-color: #E2EBFA;\n",
       "      --hover-fill-color: #174EA6;\n",
       "      --disabled-fill-color: #AAA;\n",
       "      --disabled-bg-color: #DDD;\n",
       "  }\n",
       "\n",
       "  [theme=dark] .colab-df-quickchart {\n",
       "      --bg-color: #3B4455;\n",
       "      --fill-color: #D2E3FC;\n",
       "      --hover-bg-color: #434B5C;\n",
       "      --hover-fill-color: #FFFFFF;\n",
       "      --disabled-bg-color: #3B4455;\n",
       "      --disabled-fill-color: #666;\n",
       "  }\n",
       "\n",
       "  .colab-df-quickchart {\n",
       "    background-color: var(--bg-color);\n",
       "    border: none;\n",
       "    border-radius: 50%;\n",
       "    cursor: pointer;\n",
       "    display: none;\n",
       "    fill: var(--fill-color);\n",
       "    height: 32px;\n",
       "    padding: 0;\n",
       "    width: 32px;\n",
       "  }\n",
       "\n",
       "  .colab-df-quickchart:hover {\n",
       "    background-color: var(--hover-bg-color);\n",
       "    box-shadow: 0 1px 2px rgba(60, 64, 67, 0.3), 0 1px 3px 1px rgba(60, 64, 67, 0.15);\n",
       "    fill: var(--button-hover-fill-color);\n",
       "  }\n",
       "\n",
       "  .colab-df-quickchart-complete:disabled,\n",
       "  .colab-df-quickchart-complete:disabled:hover {\n",
       "    background-color: var(--disabled-bg-color);\n",
       "    fill: var(--disabled-fill-color);\n",
       "    box-shadow: none;\n",
       "  }\n",
       "\n",
       "  .colab-df-spinner {\n",
       "    border: 2px solid var(--fill-color);\n",
       "    border-color: transparent;\n",
       "    border-bottom-color: var(--fill-color);\n",
       "    animation:\n",
       "      spin 1s steps(1) infinite;\n",
       "  }\n",
       "\n",
       "  @keyframes spin {\n",
       "    0% {\n",
       "      border-color: transparent;\n",
       "      border-bottom-color: var(--fill-color);\n",
       "      border-left-color: var(--fill-color);\n",
       "    }\n",
       "    20% {\n",
       "      border-color: transparent;\n",
       "      border-left-color: var(--fill-color);\n",
       "      border-top-color: var(--fill-color);\n",
       "    }\n",
       "    30% {\n",
       "      border-color: transparent;\n",
       "      border-left-color: var(--fill-color);\n",
       "      border-top-color: var(--fill-color);\n",
       "      border-right-color: var(--fill-color);\n",
       "    }\n",
       "    40% {\n",
       "      border-color: transparent;\n",
       "      border-right-color: var(--fill-color);\n",
       "      border-top-color: var(--fill-color);\n",
       "    }\n",
       "    60% {\n",
       "      border-color: transparent;\n",
       "      border-right-color: var(--fill-color);\n",
       "    }\n",
       "    80% {\n",
       "      border-color: transparent;\n",
       "      border-right-color: var(--fill-color);\n",
       "      border-bottom-color: var(--fill-color);\n",
       "    }\n",
       "    90% {\n",
       "      border-color: transparent;\n",
       "      border-bottom-color: var(--fill-color);\n",
       "    }\n",
       "  }\n",
       "</style>\n",
       "\n",
       "      <script>\n",
       "        async function quickchart(key) {\n",
       "          const quickchartButtonEl =\n",
       "            document.querySelector('#' + key + ' button');\n",
       "          quickchartButtonEl.disabled = true;  // To prevent multiple clicks.\n",
       "          quickchartButtonEl.classList.add('colab-df-spinner');\n",
       "          try {\n",
       "            const charts = await google.colab.kernel.invokeFunction(\n",
       "                'suggestCharts', [key], {});\n",
       "          } catch (error) {\n",
       "            console.error('Error during call to suggestCharts:', error);\n",
       "          }\n",
       "          quickchartButtonEl.classList.remove('colab-df-spinner');\n",
       "          quickchartButtonEl.classList.add('colab-df-quickchart-complete');\n",
       "        }\n",
       "        (() => {\n",
       "          let quickchartButtonEl =\n",
       "            document.querySelector('#df-6dc2efe4-d92c-490e-8f73-b9d634a8aa00 button');\n",
       "          quickchartButtonEl.style.display =\n",
       "            google.colab.kernel.accessAllowed ? 'block' : 'none';\n",
       "        })();\n",
       "      </script>\n",
       "    </div>\n",
       "\n",
       "    </div>\n",
       "  </div>\n"
      ],
      "text/plain": [
       "      Tweet_ID                                              tweet  \\\n",
       "0  ID_0022DWKP  Had a dream i got raped last night. By a guy i...   \n",
       "1  ID_00395QYM  he thought the word raped means sex and told m...   \n",
       "2  ID_003EOSSF  She NOT TALKING TO ME I WAS RAPED BY 2 MEN 1 M...   \n",
       "3  ID_004BBHOD  I was sexually abused for 3 years at age 4 to ...   \n",
       "4  ID_004F7516  Chessy Prout can do better by telling the trut...   \n",
       "5  ID_0052TYKI  Yes men rape women. But women also rape men, y...   \n",
       "6  ID_0058QG76  My Husband Beats Me Frequently, Wife Tells Cou...   \n",
       "7  ID_005VM1DJ  Pretty sure he raped a 16yr old girl with 2 fr...   \n",
       "8  ID_0060BW8R  TW sorry to hear that  and yeah he recently th...   \n",
       "9  ID_007FAIEI  \"I understand that... My father was abusive as...   \n",
       "\n",
       "                type  \n",
       "0    sexual_violence  \n",
       "1    sexual_violence  \n",
       "2    sexual_violence  \n",
       "3    sexual_violence  \n",
       "4    sexual_violence  \n",
       "5    sexual_violence  \n",
       "6  Physical_violence  \n",
       "7    sexual_violence  \n",
       "8    sexual_violence  \n",
       "9    sexual_violence  "
      ]
     },
     "execution_count": 3,
     "metadata": {},
     "output_type": "execute_result"
    }
   ],
   "source": [
    "ben = pd.read_csv('data/Train.csv')\n",
    "ben.head(10)"
   ]
  },
  {
   "cell_type": "code",
   "execution_count": 4,
   "metadata": {
    "colab": {
     "base_uri": "https://localhost:8080/"
    },
    "id": "meZeSNsXhPhY",
    "outputId": "66ffb646-fb37-4ba7-d06e-83ef275e9592"
   },
   "outputs": [
    {
     "name": "stdout",
     "output_type": "stream",
     "text": [
      "<class 'pandas.core.frame.DataFrame'>\n",
      "RangeIndex: 39650 entries, 0 to 39649\n",
      "Data columns (total 3 columns):\n",
      " #   Column    Non-Null Count  Dtype \n",
      "---  ------    --------------  ----- \n",
      " 0   Tweet_ID  39650 non-null  object\n",
      " 1   tweet     39650 non-null  object\n",
      " 2   type      39650 non-null  object\n",
      "dtypes: object(3)\n",
      "memory usage: 929.4+ KB\n"
     ]
    }
   ],
   "source": [
    "ben.info()"
   ]
  },
  {
   "cell_type": "code",
   "execution_count": 13,
   "metadata": {
    "colab": {
     "base_uri": "https://localhost:8080/"
    },
    "id": "iVrYQAXAhACl",
    "outputId": "4e087ad9-303c-491c-bba8-8e5b54119fec"
   },
   "outputs": [
    {
     "name": "stdout",
     "output_type": "stream",
     "text": [
      "Afficher la taille de notre dataset : 39650\n",
      "\n",
      "Nombre des variables dans notre dataset : 3\n",
      "\n",
      "Liste des variables dans le dataset:Index(['Tweet_ID', 'tweet', 'type'], dtype='object')\n"
     ]
    }
   ],
   "source": [
    "print(f\"Afficher la taille de notre dataset : {ben.shape[0]}\")\n",
    "print()\n",
    "print(f\"Nombre des variables dans notre dataset : {ben.shape[1]}\")\n",
    "print()\n",
    "print(f\"Liste des variables dans le dataset:{ben.columns}\")"
   ]
  },
  {
   "cell_type": "markdown",
   "metadata": {
    "id": "6R8IZLZbic8i"
   },
   "source": [
    "3. Vérification des données manquante"
   ]
  },
  {
   "cell_type": "code",
   "execution_count": 14,
   "metadata": {
    "colab": {
     "base_uri": "https://localhost:8080/",
     "height": 178
    },
    "id": "IfBFkH53hdzd",
    "outputId": "a66899f5-395f-4cde-ec43-a009978a0aba"
   },
   "outputs": [
    {
     "data": {
      "text/html": [
       "<div>\n",
       "<style scoped>\n",
       "    .dataframe tbody tr th:only-of-type {\n",
       "        vertical-align: middle;\n",
       "    }\n",
       "\n",
       "    .dataframe tbody tr th {\n",
       "        vertical-align: top;\n",
       "    }\n",
       "\n",
       "    .dataframe thead th {\n",
       "        text-align: right;\n",
       "    }\n",
       "</style>\n",
       "<table border=\"1\" class=\"dataframe\">\n",
       "  <thead>\n",
       "    <tr style=\"text-align: right;\">\n",
       "      <th></th>\n",
       "      <th>0</th>\n",
       "    </tr>\n",
       "  </thead>\n",
       "  <tbody>\n",
       "    <tr>\n",
       "      <th>Tweet_ID</th>\n",
       "      <td>0</td>\n",
       "    </tr>\n",
       "    <tr>\n",
       "      <th>tweet</th>\n",
       "      <td>0</td>\n",
       "    </tr>\n",
       "    <tr>\n",
       "      <th>type</th>\n",
       "      <td>0</td>\n",
       "    </tr>\n",
       "  </tbody>\n",
       "</table>\n",
       "</div><br><label><b>dtype:</b> int64</label>"
      ],
      "text/plain": [
       "Tweet_ID    0\n",
       "tweet       0\n",
       "type        0\n",
       "dtype: int64"
      ]
     },
     "execution_count": 14,
     "metadata": {},
     "output_type": "execute_result"
    }
   ],
   "source": [
    "ben.isnull().sum()"
   ]
  },
  {
   "cell_type": "markdown",
   "metadata": {
    "id": "JZJvHvFtisyC"
   },
   "source": [
    "4. Présentation de la variable de sortie"
   ]
  },
  {
   "cell_type": "code",
   "execution_count": 6,
   "metadata": {
    "colab": {
     "base_uri": "https://localhost:8080/"
    },
    "id": "-DCFkqlng_3h",
    "outputId": "26905d83-3251-4c34-952b-f17241b8d2b9"
   },
   "outputs": [
    {
     "data": {
      "text/plain": [
       "array(['sexual_violence', 'Physical_violence', 'emotional_violence',\n",
       "       'Harmful_Traditional_practice', 'economic_violence'], dtype=object)"
      ]
     },
     "execution_count": 6,
     "metadata": {},
     "output_type": "execute_result"
    }
   ],
   "source": [
    "ben.type.unique()"
   ]
  },
  {
   "cell_type": "markdown",
   "metadata": {
    "id": "Z7TGZmlSi-l5"
   },
   "source": [
    "4.1. Description de la variable"
   ]
  },
  {
   "cell_type": "code",
   "execution_count": 15,
   "metadata": {
    "id": "TZ0TxK2Qhf9p"
   },
   "outputs": [],
   "source": [
    "type_freq = ben['type'].value_counts()\n",
    "type_cat = ben['type'].unique()\n",
    "percent_type = (ben['type'].value_counts()/ben.shape[0])*100"
   ]
  },
  {
   "cell_type": "code",
   "execution_count": 18,
   "metadata": {
    "colab": {
     "base_uri": "https://localhost:8080/"
    },
    "id": "46AIQclpjJ-i",
    "outputId": "d9935854-a1e5-4343-bff9-c0a327f6c939"
   },
   "outputs": [
    {
     "name": "stdout",
     "output_type": "stream",
     "text": [
      "Présentation des effectifs de la variable types de tweets : type\n",
      "sexual_violence                 32648\n",
      "Physical_violence                5946\n",
      "emotional_violence                651\n",
      "economic_violence                 217\n",
      "Harmful_Traditional_practice      188\n",
      "Name: count, dtype: int64\n"
     ]
    }
   ],
   "source": [
    "print(f\"Présentation des effectifs de la variable type de tweets : {type_freq}\")"
   ]
  },
  {
   "cell_type": "code",
   "execution_count": 19,
   "metadata": {
    "colab": {
     "base_uri": "https://localhost:8080/"
    },
    "id": "NmYuTQPhjMjv",
    "outputId": "5fa65755-8b33-4945-a358-32795ff10fc7"
   },
   "outputs": [
    {
     "name": "stdout",
     "output_type": "stream",
     "text": [
      "Présentation des pourcentages de la variable type de tweets : type\n",
      "sexual_violence                 82.340479\n",
      "Physical_violence               14.996217\n",
      "emotional_violence               1.641866\n",
      "economic_violence                0.547289\n",
      "Harmful_Traditional_practice     0.474149\n",
      "Name: count, dtype: float64\n"
     ]
    }
   ],
   "source": [
    "print(f\"Présentation des pourcentages de la variable type de tweets : {percent_type}\")"
   ]
  },
  {
   "cell_type": "code",
   "execution_count": 20,
   "metadata": {
    "colab": {
     "base_uri": "https://localhost:8080/",
     "height": 406
    },
    "id": "mNhx5KGOh2yU",
    "outputId": "69ee9c04-84ae-437b-c89e-2b367fba7ac3"
   },
   "outputs": [
    {
     "data": {
      "image/png": "[encoded data removed]",
      "text/plain": [
       "<Figure size 640x480 with 1 Axes>"
      ]
     },
     "metadata": {},
     "output_type": "display_data"
    }
   ],
   "source": [
    "plt.pie(type_freq, labels=type_cat, autopct='%1.1f%%')\n",
    "plt.show()"
   ]
  },
  {
   "cell_type": "markdown",
   "metadata": {
    "id": "xNJ0pNKCjrLd"
   },
   "source": [
    "N.B: nous avons connu, un problème avec les ressources et la memoire de la machine, pour ce nous avions utilisé un echantillon de n = 1000 ce choix a été motivé dans plusieur papiers et nous avions mis des liens dans le README.md"
   ]
  },
  {
   "cell_type": "markdown",
   "metadata": {
    "id": "mh4mQ1XUkNem"
   },
   "source": [
    "4.2 Echantillonnage"
   ]
  },
  {
   "cell_type": "code",
   "execution_count": 21,
   "metadata": {
    "colab": {
     "base_uri": "https://localhost:8080/"
    },
    "id": "exrNMPJP8IAe",
    "outputId": "68966ff2-24b0-4b06-d94e-e9cbe6b5edeb"
   },
   "outputs": [
    {
     "data": {
      "text/plain": [
       "(1000, 3)"
      ]
     },
     "execution_count": 21,
     "metadata": {},
     "output_type": "execute_result"
    }
   ],
   "source": [
    "ben = ben.sample(n=1000, random_state=42)\n",
    "ben.head()\n",
    "ben.shape"
   ]
  },
  {
   "cell_type": "code",
   "execution_count": 22,
   "metadata": {
    "id": "0DH_bEK2hrL2"
   },
   "outputs": [],
   "source": [
    "type_freq = ben['type'].value_counts()\n",
    "type_cat = ben['type'].unique()\n",
    "percent_type = (ben['type'].value_counts()/ben.shape[0])*100"
   ]
  },
  {
   "cell_type": "code",
   "execution_count": 23,
   "metadata": {
    "colab": {
     "base_uri": "https://localhost:8080/"
    },
    "id": "kKr6-b6qkbWr",
    "outputId": "78aefdfe-8774-4976-d563-bf3f872b0474"
   },
   "outputs": [
    {
     "name": "stdout",
     "output_type": "stream",
     "text": [
      "Présentation des pourcentages de la variable type de tweets : type\n",
      "sexual_violence                 82.0\n",
      "Physical_violence               15.8\n",
      "emotional_violence               1.6\n",
      "economic_violence                0.4\n",
      "Harmful_Traditional_practice     0.2\n",
      "Name: count, dtype: float64\n"
     ]
    }
   ],
   "source": [
    "print(f\"Présentation des pourcentages de la variable type de tweets : {percent_type}\")"
   ]
  },
  {
   "cell_type": "markdown",
   "metadata": {
    "id": "Mizd6SsAkdT0"
   },
   "source": [
    "N.B : En comparant, la population de 39650 et l'echantillon de 1000, la modalité sexual_violence est reste aux alentours de 82%. d'où, nous pensons travailler avec cet echantillon et nous allons faire l'inférence après."
   ]
  },
  {
   "cell_type": "code",
   "execution_count": 24,
   "metadata": {
    "colab": {
     "base_uri": "https://localhost:8080/",
     "height": 406
    },
    "id": "QDTPrDN4k8AK",
    "outputId": "9f7c0667-6e7e-46f8-c55a-5b6ce4aa9010"
   },
   "outputs": [
    {
     "data": {
      "image/png": "[encoded data removed]",
      "text/plain": [
       "<Figure size 640x480 with 1 Axes>"
      ]
     },
     "metadata": {},
     "output_type": "display_data"
    }
   ],
   "source": [
    "plt.pie(type_freq, labels=type_cat, autopct='%1.1f%%')\n",
    "plt.show()"
   ]
  },
  {
   "cell_type": "markdown",
   "metadata": {
    "id": "GUGcXTeDl3yE"
   },
   "source": [
    "5. Transformation de type en encoder"
   ]
  },
  {
   "cell_type": "markdown",
   "metadata": {
    "id": "0PCfaHJ9l6Qi"
   },
   "source": [
    "l'Achitecture de transformer suivant a été appliquer pour notre transformation."
   ]
  },
  {
   "cell_type": "markdown",
   "metadata": {
    "id": "Cn2Zpb_1mAKd"
   },
   "source": [
    "![image_transformers.png](data:image/png;base64,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)"
   ]
  },
  {
   "cell_type": "markdown",
   "metadata": {
    "id": "jFXPaIQbmWuf"
   },
   "source": [
    "5.1. Change the labeling to numerical values"
   ]
  },
  {
   "cell_type": "code",
   "execution_count": 25,
   "metadata": {
    "id": "ylVYg9Gv8i5I"
   },
   "outputs": [],
   "source": [
    "label_encoder = LabelEncoder()\n",
    "ben['type'] = label_encoder.fit_transform(ben['type'])"
   ]
  },
  {
   "cell_type": "markdown",
   "metadata": {
    "id": "qgxzBtnDmbzF"
   },
   "source": [
    "5.2. Train-test split"
   ]
  },
  {
   "cell_type": "code",
   "execution_count": 26,
   "metadata": {
    "id": "SqJm85dZ81uH"
   },
   "outputs": [],
   "source": [
    "X_train, X_test, y_train, y_test = train_test_split(ben['tweet'], ben['type'], test_size=0.2, random_state=42)"
   ]
  },
  {
   "cell_type": "markdown",
   "metadata": {
    "id": "FMwMNSaYmg10"
   },
   "source": [
    "5.3. Ensure y_train and y_test are numpy arrays before converting to tensors as the .tensor fucntion expects lists, numpys or other tensors"
   ]
  },
  {
   "cell_type": "code",
   "execution_count": 27,
   "metadata": {
    "id": "zkdwV4qo8_2i"
   },
   "outputs": [],
   "source": [
    "y_train = np.array(y_train)\n",
    "y_test = np.array(y_test)"
   ]
  },
  {
   "cell_type": "markdown",
   "metadata": {
    "id": "y0xB3lxmmpGm"
   },
   "source": [
    "5.4. Convert labels to tensors of type Long as many of loss fucntions such as CrossEntropyLoss require tensor of long type"
   ]
  },
  {
   "cell_type": "code",
   "execution_count": 28,
   "metadata": {
    "id": "hZdlGQwE9CMj"
   },
   "outputs": [],
   "source": [
    "y_train = torch.tensor(y_train).long()\n",
    "y_test = torch.tensor(y_test).long()"
   ]
  },
  {
   "cell_type": "markdown",
   "metadata": {
    "id": "PYTrGlrNmu-A"
   },
   "source": [
    "5.5. Load BERT tokenizer and model"
   ]
  },
  {
   "cell_type": "code",
   "execution_count": 29,
   "metadata": {
    "colab": {
     "base_uri": "https://localhost:8080/",
     "height": 371,
     "referenced_widgets": [
      "b50a5143019c4d1d875bc86684cbf80a",
      "e9102330760647a8a20c6c42090c4538",
      "1c2ea6cbb0a04a32bc2589bb6f80ddee",
      "b182c6806dba4e09a624f02d1756f00c",
      "2859d318fcca4cf8a77c4543760c02d9",
      "9551894ca21a4b6badcafd6e483549d3",
      "252b36e0122e4881a2c1b8678fe491fb",
      "20420ed22f0242959810c34d8049bc10",
      "3ac26b735abf4aa99a58d13ed7804890",
      "aa02eb6defc048089b48ebfef1b5638a",
      "5ce5540e42a14aeb8eed5e16d540086e",
      "8965b44b341d4c879d3f8a33cb698c13",
      "8ae1df7c48af4958bce696567878a82b",
      "909d8df4bfc74965ae6ebe132fbb1b61",
      "fb80818fa198419faf23b2f4363729b6",
      "c4ecd24248184a33bda1ad70d30fad8b",
      "963bd45c0be74ea6abe357f696df0718",
      "1ed5f49e551d450486b6f0a7a85fe0a6",
      "d000efa58e594270964abde1488b7dec",
      "3ff031541db94468ac7391ba10e6c8f4",
      "973e36a040e84aab915b257b06124639",
      "d0b5a6173ca54d7aa911ebf5158f2cb3",
      "839e10e1222f4e62a7e5ae2f6d760ded",
      "01249ee5c82b43a0af903f23d807c304",
      "ce3ac13ba99b40fba2254906b72f51ec",
      "16ec7d9d9fa44c3eabd13ba3f4ee866c",
      "ef9182569ce34408a0709f2b21f1ce10",
      "5c46cd4f6b4a4c10ac85b8600a910697",
      "f9d2e9899cf2424b9ca88bd7b2e68b4c",
      "fbeafe78251e4a409e2147bfe1c878eb",
      "d8e5c1df77304dd8863f73ed6196ca1d",
      "472d50edd69049ffa6df54c2bccfc8b1",
      "3933361d8e3b4423b8fc4f71b39c5752",
      "7b151134cffa47429097e6fcc74a611a",
      "bf8d8323d1b1431696d5d0c160c14d30",
      "56858b7fd9ff4aa4b8c1cbf9b80f8922",
      "5f27ec3889f144eb8d10a306e8f1348e",
      "c57735ad408a42e5b29c0ab87257417c",
      "2670bfb3ec5e4354a61367c385e87310",
      "7c883b07ed044bc7b87768aee8990efb",
      "d2299b3d22fc4e40b55e7b8266411d01",
      "8eddff144ee04be3918a11a653fc9254",
      "d095429e42434f88bc417d68078ab8ef",
      "3cbc1164cd624e40a0ad169283b8bb11",
      "b76305d336e1444badb6561dd6d79d31",
      "1fe31181ff2345489912cb5e37ffae76",
      "350755497be24d8798ef78187dd97118",
      "4428e6ae07634c839bba7c16b5880702",
      "a7bf8abe19904173aef84d7b21dab82f",
      "8753ff5891d04eda9757ffacf1c69d0d",
      "21ae0224fbd1428eb1742be51e6f96d0",
      "3c41be74f5eb43f789d88a5c13f108ef",
      "b1108512de844cd2a73c2b7ee2dd8894",
      "38a5ca17fd4b42c88f81176b47940397",
      "4541f16770e141a0bb1291d7c6a06235"
     ]
    },
    "id": "gR_UGeVV9DuU",
    "outputId": "3fc22ef6-45bb-4de4-d26b-afc305cfd669"
   },
   "outputs": [
    {
     "name": "stderr",
     "output_type": "stream",
     "text": [
      "/usr/local/lib/python3.11/dist-packages/huggingface_hub/utils/_auth.py:94: UserWarning: \n",
      "The secret `HF_TOKEN` does not exist in your Colab secrets.\n",
      "To authenticate with the Hugging Face Hub, create a token in your settings tab (https://huggingface.co/settings/tokens), set it as secret in your Google Colab and restart your session.\n",
      "You will be able to reuse this secret in all of your notebooks.\n",
      "Please note that authentication is recommended but still optional to access public models or datasets.\n",
      "  warnings.warn(\n"
     ]
    },
    {
     "data": {
      "application/vnd.jupyter.widget-view+json": {
       "model_id": "b50a5143019c4d1d875bc86684cbf80a",
       "version_major": 2,
       "version_minor": 0
      },
      "text/plain": [
       "tokenizer_config.json:   0%|          | 0.00/48.0 [00:00<?, ?B/s]"
      ]
     },
     "metadata": {},
     "output_type": "display_data"
    },
    {
     "data": {
      "application/vnd.jupyter.widget-view+json": {
       "model_id": "8965b44b341d4c879d3f8a33cb698c13",
       "version_major": 2,
       "version_minor": 0
      },
      "text/plain": [
       "vocab.txt:   0%|          | 0.00/232k [00:00<?, ?B/s]"
      ]
     },
     "metadata": {},
     "output_type": "display_data"
    },
    {
     "data": {
      "application/vnd.jupyter.widget-view+json": {
       "model_id": "839e10e1222f4e62a7e5ae2f6d760ded",
       "version_major": 2,
       "version_minor": 0
      },
      "text/plain": [
       "tokenizer.json:   0%|          | 0.00/466k [00:00<?, ?B/s]"
      ]
     },
     "metadata": {},
     "output_type": "display_data"
    },
    {
     "data": {
      "application/vnd.jupyter.widget-view+json": {
       "model_id": "7b151134cffa47429097e6fcc74a611a",
       "version_major": 2,
       "version_minor": 0
      },
      "text/plain": [
       "config.json:   0%|          | 0.00/570 [00:00<?, ?B/s]"
      ]
     },
     "metadata": {},
     "output_type": "display_data"
    },
    {
     "name": "stderr",
     "output_type": "stream",
     "text": [
      "Xet Storage is enabled for this repo, but the 'hf_xet' package is not installed. Falling back to regular HTTP download. For better performance, install the package with: `pip install huggingface_hub[hf_xet]` or `pip install hf_xet`\n",
      "WARNING:huggingface_hub.file_download:Xet Storage is enabled for this repo, but the 'hf_xet' package is not installed. Falling back to regular HTTP download. For better performance, install the package with: `pip install huggingface_hub[hf_xet]` or `pip install hf_xet`\n"
     ]
    },
    {
     "data": {
      "application/vnd.jupyter.widget-view+json": {
       "model_id": "b76305d336e1444badb6561dd6d79d31",
       "version_major": 2,
       "version_minor": 0
      },
      "text/plain": [
       "model.safetensors:   0%|          | 0.00/440M [00:00<?, ?B/s]"
      ]
     },
     "metadata": {},
     "output_type": "display_data"
    },
    {
     "name": "stderr",
     "output_type": "stream",
     "text": [
      "Some weights of BertForSequenceClassification were not initialized from the model checkpoint at bert-base-uncased and are newly initialized: ['classifier.bias', 'classifier.weight']\n",
      "You should probably TRAIN this model on a down-stream task to be able to use it for predictions and inference.\n"
     ]
    }
   ],
   "source": [
    "tokenizer = BertTokenizer.from_pretrained('bert-base-uncased')\n",
    "model = BertForSequenceClassification.from_pretrained('bert-base-uncased', num_labels=len(ben['type'].unique()))"
   ]
  },
  {
   "cell_type": "markdown",
   "metadata": {
    "id": "FUEHlGdnm7JA"
   },
   "source": [
    "5.6.  Tokenize input texts"
   ]
  },
  {
   "cell_type": "code",
   "execution_count": 30,
   "metadata": {
    "id": "nb5ZVP-e9MJ8"
   },
   "outputs": [],
   "source": [
    "def tokenize(batch):\n",
    "  return tokenizer(batch, padding=True, truncation=True, max_length=512, return_tensors='pt')\n",
    "\n",
    "#Converting to list it is suitable to be tokenzied\n",
    "train_encodings = tokenize(X_train.tolist())\n",
    "test_encodings = tokenize(X_test.tolist())"
   ]
  },
  {
   "cell_type": "markdown",
   "metadata": {
    "id": "HN8qV5eJnCp3"
   },
   "source": [
    "6. Create PyTorch datasets for handling input encodings and labels."
   ]
  },
  {
   "cell_type": "markdown",
   "metadata": {
    "id": "fbyrymTynI8w"
   },
   "source": [
    "6.1. Dataset"
   ]
  },
  {
   "cell_type": "code",
   "execution_count": 31,
   "metadata": {
    "id": "y955l5Dw9Whl"
   },
   "outputs": [],
   "source": [
    "class customDataset(Dataset):\n",
    "    def __init__(self, encodings, labels):\n",
    "        self.encodings = encodings\n",
    "        self.labels = labels\n",
    "\n",
    "    def __getitem__(self, idx):\n",
    "        item = {key: val[idx] for key, val in self.encodings.items()}\n",
    "        item['labels'] = self.labels[idx]\n",
    "        return item\n",
    "\n",
    "    def __len__(self):\n",
    "        return len(self.labels)"
   ]
  },
  {
   "cell_type": "code",
   "execution_count": 32,
   "metadata": {
    "id": "RnbERq9l9j9h"
   },
   "outputs": [],
   "source": [
    "train_dataset = customDataset(train_encodings, y_train)\n",
    "test_dataset = customDataset(test_encodings, y_test)"
   ]
  },
  {
   "cell_type": "markdown",
   "metadata": {
    "id": "4fPl6_oDnM0S"
   },
   "source": [
    "6.2. DataLoader"
   ]
  },
  {
   "cell_type": "markdown",
   "metadata": {
    "id": "F0b1eJE1nQvb"
   },
   "source": [
    "DataLoader\n",
    "shuffle is set to True, so that data is shuffled before each epoch for a more generalized model."
   ]
  },
  {
   "cell_type": "code",
   "execution_count": 33,
   "metadata": {
    "id": "XdV3YGEh9m4h"
   },
   "outputs": [],
   "source": [
    "train_loader = DataLoader(train_dataset, batch_size=8, shuffle=True)\n",
    "test_loader = DataLoader(test_dataset, batch_size=8, shuffle=False)"
   ]
  },
  {
   "cell_type": "markdown",
   "metadata": {
    "id": "vT6Jhn7GnZXg"
   },
   "source": [
    "6.3. Define optimizer"
   ]
  },
  {
   "cell_type": "code",
   "execution_count": 34,
   "metadata": {
    "id": "2wR_2q7T927z"
   },
   "outputs": [],
   "source": [
    "optimizer = torch.optim.AdamW(model.parameters(), lr=2e-5)"
   ]
  },
  {
   "cell_type": "markdown",
   "metadata": {
    "id": "6aiswyBXKkKu"
   },
   "source": [
    "6.4. Entrainement du modele"
   ]
  },
  {
   "cell_type": "code",
   "execution_count": 39,
   "metadata": {
    "colab": {
     "base_uri": "https://localhost:8080/"
    },
    "id": "f60OaM7I96cb",
    "outputId": "f9d27be7-0b18-445b-9c15-114f04782c42"
   },
   "outputs": [
    {
     "name": "stdout",
     "output_type": "stream",
     "text": [
      "Epoch 1/3, average Loss: 0.0000149196 \n",
      "Epoch 1/3, average Loss: 0.0000356676 \n",
      "Epoch 1/3, average Loss: 0.0001989663 \n",
      "Epoch 1/3, average Loss: 0.0002201482 \n",
      "Epoch 1/3, average Loss: 0.0002386843 \n",
      "Epoch 1/3, average Loss: 0.0002686198 \n",
      "Epoch 1/3, average Loss: 0.0002853881 \n",
      "Epoch 1/3, average Loss: 0.0003068911 \n",
      "Epoch 1/3, average Loss: 0.0003357894 \n",
      "Epoch 1/3, average Loss: 0.0005954716 \n",
      "Epoch 1/3, average Loss: 0.0006184758 \n",
      "Epoch 1/3, average Loss: 0.0006413724 \n",
      "Epoch 1/3, average Loss: 0.0006540000 \n",
      "Epoch 1/3, average Loss: 0.0006734162 \n",
      "Epoch 1/3, average Loss: 0.0006918956 \n",
      "Epoch 1/3, average Loss: 0.0007093433 \n",
      "Epoch 1/3, average Loss: 0.0007334971 \n",
      "Epoch 1/3, average Loss: 0.0007481697 \n",
      "Epoch 1/3, average Loss: 0.0009582267 \n",
      "Epoch 1/3, average Loss: 0.0011846425 \n",
      "Epoch 1/3, average Loss: 0.0013901610 \n",
      "Epoch 1/3, average Loss: 0.0014075293 \n",
      "Epoch 1/3, average Loss: 0.0014223926 \n",
      "Epoch 1/3, average Loss: 0.0014367701 \n",
      "Epoch 1/3, average Loss: 0.0014561836 \n",
      "Epoch 1/3, average Loss: 0.0014753412 \n",
      "Epoch 1/3, average Loss: 0.0014912572 \n",
      "Epoch 1/3, average Loss: 0.0015092650 \n",
      "Epoch 1/3, average Loss: 0.0015304462 \n",
      "Epoch 1/3, average Loss: 0.0015516245 \n",
      "Epoch 1/3, average Loss: 0.0015711797 \n",
      "Epoch 1/3, average Loss: 0.0015950221 \n",
      "Epoch 1/3, average Loss: 0.0017147073 \n",
      "Epoch 1/3, average Loss: 0.0017367545 \n",
      "Epoch 1/3, average Loss: 0.0019180669 \n",
      "Epoch 1/3, average Loss: 0.0019393070 \n",
      "Epoch 1/3, average Loss: 0.0019528361 \n",
      "Epoch 1/3, average Loss: 0.0019749156 \n",
      "Epoch 1/3, average Loss: 0.0019921840 \n",
      "Epoch 1/3, average Loss: 0.0020294432 \n",
      "Epoch 1/3, average Loss: 0.0020523838 \n",
      "Epoch 1/3, average Loss: 0.0020692689 \n",
      "Epoch 1/3, average Loss: 0.0022045705 \n",
      "Epoch 1/3, average Loss: 0.0022203677 \n",
      "Epoch 1/3, average Loss: 0.0022341787 \n",
      "Epoch 1/3, average Loss: 0.0024123110 \n",
      "Epoch 1/3, average Loss: 0.0024310058 \n",
      "Epoch 1/3, average Loss: 0.0024436849 \n",
      "Epoch 1/3, average Loss: 0.0024635582 \n",
      "Epoch 1/3, average Loss: 0.0024797788 \n",
      "Epoch 1/3, average Loss: 0.0024920803 \n",
      "Epoch 1/3, average Loss: 0.0025171318 \n",
      "Epoch 1/3, average Loss: 0.0034156478 \n",
      "Epoch 1/3, average Loss: 0.0034307368 \n",
      "Epoch 1/3, average Loss: 0.0034435559 \n",
      "Epoch 1/3, average Loss: 0.0034629117 \n",
      "Epoch 1/3, average Loss: 0.0034759868 \n",
      "Epoch 1/3, average Loss: 0.0034931498 \n",
      "Epoch 1/3, average Loss: 0.0035188922 \n",
      "Epoch 1/3, average Loss: 0.0035386716 \n",
      "Epoch 1/3, average Loss: 0.0035588946 \n",
      "Epoch 1/3, average Loss: 0.0035766989 \n",
      "Epoch 1/3, average Loss: 0.0036008413 \n",
      "Epoch 1/3, average Loss: 0.0036153866 \n",
      "Epoch 1/3, average Loss: 0.0036325144 \n",
      "Epoch 1/3, average Loss: 0.0036452330 \n",
      "Epoch 1/3, average Loss: 0.0036599362 \n",
      "Epoch 1/3, average Loss: 0.0036790858 \n",
      "Epoch 1/3, average Loss: 0.0036919523 \n",
      "Epoch 1/3, average Loss: 0.0037036104 \n",
      "Epoch 1/3, average Loss: 0.0037160793 \n",
      "Epoch 1/3, average Loss: 0.0037370322 \n",
      "Epoch 1/3, average Loss: 0.0037508365 \n",
      "Epoch 1/3, average Loss: 0.0037625921 \n",
      "Epoch 1/3, average Loss: 0.0040091371 \n",
      "Epoch 1/3, average Loss: 0.0040272032 \n",
      "Epoch 1/3, average Loss: 0.0040440436 \n",
      "Epoch 1/3, average Loss: 0.0040632030 \n",
      "Epoch 1/3, average Loss: 0.0040875973 \n",
      "Epoch 1/3, average Loss: 0.0040998029 \n",
      "Epoch 1/3, average Loss: 0.0041180267 \n",
      "Epoch 1/3, average Loss: 0.0041346363 \n",
      "Epoch 1/3, average Loss: 0.0043729052 \n",
      "Epoch 1/3, average Loss: 0.0043923874 \n",
      "Epoch 1/3, average Loss: 0.0046124465 \n",
      "Epoch 1/3, average Loss: 0.0046344640 \n",
      "Epoch 1/3, average Loss: 0.0046562058 \n",
      "Epoch 1/3, average Loss: 0.0046722949 \n",
      "Epoch 1/3, average Loss: 0.0046833651 \n",
      "Epoch 1/3, average Loss: 0.0047040358 \n",
      "Epoch 1/3, average Loss: 0.0048136826 \n",
      "Epoch 1/3, average Loss: 0.0048295950 \n",
      "Epoch 1/3, average Loss: 0.0048445233 \n",
      "Epoch 1/3, average Loss: 0.0048617704 \n",
      "Epoch 1/3, average Loss: 0.0048777877 \n",
      "Epoch 1/3, average Loss: 0.0048968366 \n",
      "Epoch 1/3, average Loss: 0.0056335858 \n",
      "Epoch 1/3, average Loss: 0.0059698961 \n",
      "Epoch 1/3, average Loss: 0.0059893746 \n",
      "Epoch 1/3, average Loss: 0.0060043348 \n",
      "Epoch 2/3, average Loss: 0.0000224260 \n",
      "Epoch 2/3, average Loss: 0.0000378772 \n",
      "Epoch 2/3, average Loss: 0.0000527852 \n",
      "Epoch 2/3, average Loss: 0.0000671096 \n",
      "Epoch 2/3, average Loss: 0.0000826122 \n",
      "Epoch 2/3, average Loss: 0.0000943026 \n",
      "Epoch 2/3, average Loss: 0.0001051726 \n",
      "Epoch 2/3, average Loss: 0.0002184450 \n",
      "Epoch 2/3, average Loss: 0.0004649615 \n",
      "Epoch 2/3, average Loss: 0.0004797699 \n",
      "Epoch 2/3, average Loss: 0.0005028963 \n",
      "Epoch 2/3, average Loss: 0.0005883286 \n",
      "Epoch 2/3, average Loss: 0.0006036378 \n",
      "Epoch 2/3, average Loss: 0.0006142664 \n",
      "Epoch 2/3, average Loss: 0.0006318761 \n",
      "Epoch 2/3, average Loss: 0.0006481694 \n",
      "Epoch 2/3, average Loss: 0.0006712935 \n",
      "Epoch 2/3, average Loss: 0.0007021710 \n",
      "Epoch 2/3, average Loss: 0.0007914822 \n",
      "Epoch 2/3, average Loss: 0.0008076552 \n",
      "Epoch 2/3, average Loss: 0.0008219449 \n",
      "Epoch 2/3, average Loss: 0.0009239704 \n",
      "Epoch 2/3, average Loss: 0.0009378408 \n",
      "Epoch 2/3, average Loss: 0.0010530212 \n",
      "Epoch 2/3, average Loss: 0.0010740897 \n",
      "Epoch 2/3, average Loss: 0.0010893897 \n",
      "Epoch 2/3, average Loss: 0.0011042430 \n",
      "Epoch 2/3, average Loss: 0.0011148906 \n",
      "Epoch 2/3, average Loss: 0.0022452026 \n",
      "Epoch 2/3, average Loss: 0.0023482399 \n",
      "Epoch 2/3, average Loss: 0.0023626642 \n",
      "Epoch 2/3, average Loss: 0.0023837159 \n",
      "Epoch 2/3, average Loss: 0.0024042240 \n",
      "Epoch 2/3, average Loss: 0.0024331449 \n",
      "Epoch 2/3, average Loss: 0.0024753743 \n",
      "Epoch 2/3, average Loss: 0.0024986405 \n",
      "Epoch 2/3, average Loss: 0.0025148059 \n",
      "Epoch 2/3, average Loss: 0.0025534724 \n",
      "Epoch 2/3, average Loss: 0.0025715702 \n",
      "Epoch 2/3, average Loss: 0.0025877419 \n",
      "Epoch 2/3, average Loss: 0.0035479443 \n",
      "Epoch 2/3, average Loss: 0.0035604550 \n",
      "Epoch 2/3, average Loss: 0.0035855221 \n",
      "Epoch 2/3, average Loss: 0.0035998538 \n",
      "Epoch 2/3, average Loss: 0.0036104839 \n",
      "Epoch 2/3, average Loss: 0.0037547867 \n",
      "Epoch 2/3, average Loss: 0.0037667161 \n",
      "Epoch 2/3, average Loss: 0.0037882330 \n",
      "Epoch 2/3, average Loss: 0.0038182986 \n",
      "Epoch 2/3, average Loss: 0.0038435045 \n",
      "Epoch 2/3, average Loss: 0.0038571774 \n",
      "Epoch 2/3, average Loss: 0.0042346777 \n",
      "Epoch 2/3, average Loss: 0.0042566260 \n",
      "Epoch 2/3, average Loss: 0.0042876902 \n",
      "Epoch 2/3, average Loss: 0.0043019532 \n",
      "Epoch 2/3, average Loss: 0.0043197554 \n",
      "Epoch 2/3, average Loss: 0.0043390234 \n",
      "Epoch 2/3, average Loss: 0.0043602479 \n",
      "Epoch 2/3, average Loss: 0.0043805384 \n",
      "Epoch 2/3, average Loss: 0.0043961083 \n",
      "Epoch 2/3, average Loss: 0.0044197521 \n",
      "Epoch 2/3, average Loss: 0.0044316512 \n",
      "Epoch 2/3, average Loss: 0.0044495988 \n",
      "Epoch 2/3, average Loss: 0.0044665620 \n",
      "Epoch 2/3, average Loss: 0.0044824367 \n",
      "Epoch 2/3, average Loss: 0.0044969616 \n",
      "Epoch 2/3, average Loss: 0.0045112763 \n",
      "Epoch 2/3, average Loss: 0.0045286240 \n",
      "Epoch 2/3, average Loss: 0.0046175157 \n",
      "Epoch 2/3, average Loss: 0.0046307555 \n",
      "Epoch 2/3, average Loss: 0.0046449526 \n",
      "Epoch 2/3, average Loss: 0.0046556529 \n",
      "Epoch 2/3, average Loss: 0.0047678406 \n",
      "Epoch 2/3, average Loss: 0.0048010632 \n",
      "Epoch 2/3, average Loss: 0.0048144532 \n",
      "Epoch 2/3, average Loss: 0.0048325501 \n",
      "Epoch 2/3, average Loss: 0.0048494693 \n",
      "Epoch 2/3, average Loss: 0.0048644794 \n",
      "Epoch 2/3, average Loss: 0.0048830083 \n",
      "Epoch 2/3, average Loss: 0.0048978843 \n",
      "Epoch 2/3, average Loss: 0.0049077460 \n",
      "Epoch 2/3, average Loss: 0.0049192341 \n",
      "Epoch 2/3, average Loss: 0.0049350784 \n",
      "Epoch 2/3, average Loss: 0.0049511087 \n",
      "Epoch 2/3, average Loss: 0.0049648505 \n",
      "Epoch 2/3, average Loss: 0.0049779883 \n",
      "Epoch 2/3, average Loss: 0.0049896187 \n",
      "Epoch 2/3, average Loss: 0.0074315194 \n",
      "Epoch 2/3, average Loss: 0.0074441929 \n",
      "Epoch 2/3, average Loss: 0.0074655580 \n",
      "Epoch 2/3, average Loss: 0.0074772510 \n",
      "Epoch 2/3, average Loss: 0.0075018131 \n",
      "Epoch 2/3, average Loss: 0.0075238064 \n",
      "Epoch 2/3, average Loss: 0.0075540665 \n",
      "Epoch 2/3, average Loss: 0.0075835540 \n",
      "Epoch 2/3, average Loss: 0.0076262747 \n",
      "Epoch 2/3, average Loss: 0.0076726421 \n",
      "Epoch 2/3, average Loss: 0.0077222477 \n",
      "Epoch 2/3, average Loss: 0.0077636254 \n",
      "Epoch 2/3, average Loss: 0.0079112945 \n",
      "Epoch 3/3, average Loss: 0.0001220187 \n",
      "Epoch 3/3, average Loss: 0.0001699735 \n",
      "Epoch 3/3, average Loss: 0.0001890105 \n",
      "Epoch 3/3, average Loss: 0.0002099826 \n",
      "Epoch 3/3, average Loss: 0.0002400304 \n",
      "Epoch 3/3, average Loss: 0.0002667854 \n",
      "Epoch 3/3, average Loss: 0.0004516705 \n",
      "Epoch 3/3, average Loss: 0.0004791883 \n",
      "Epoch 3/3, average Loss: 0.0006331543 \n",
      "Epoch 3/3, average Loss: 0.0007916085 \n",
      "Epoch 3/3, average Loss: 0.0008172379 \n",
      "Epoch 3/3, average Loss: 0.0008467539 \n",
      "Epoch 3/3, average Loss: 0.0008774057 \n",
      "Epoch 3/3, average Loss: 0.0010115323 \n",
      "Epoch 3/3, average Loss: 0.0010331896 \n",
      "Epoch 3/3, average Loss: 0.0010553002 \n",
      "Epoch 3/3, average Loss: 0.0010753794 \n",
      "Epoch 3/3, average Loss: 0.0011000593 \n",
      "Epoch 3/3, average Loss: 0.0011199554 \n",
      "Epoch 3/3, average Loss: 0.0011379770 \n",
      "Epoch 3/3, average Loss: 0.0011620119 \n",
      "Epoch 3/3, average Loss: 0.0011817731 \n",
      "Epoch 3/3, average Loss: 0.0011951961 \n",
      "Epoch 3/3, average Loss: 0.0012121921 \n",
      "Epoch 3/3, average Loss: 0.0012304835 \n",
      "Epoch 3/3, average Loss: 0.0012416232 \n",
      "Epoch 3/3, average Loss: 0.0012594257 \n",
      "Epoch 3/3, average Loss: 0.0012769195 \n",
      "Epoch 3/3, average Loss: 0.0012870204 \n",
      "Epoch 3/3, average Loss: 0.0012971000 \n",
      "Epoch 3/3, average Loss: 0.0013105013 \n",
      "Epoch 3/3, average Loss: 0.0014176967 \n",
      "Epoch 3/3, average Loss: 0.0015275475 \n",
      "Epoch 3/3, average Loss: 0.0015425870 \n",
      "Epoch 3/3, average Loss: 0.0015526627 \n",
      "Epoch 3/3, average Loss: 0.0015721873 \n",
      "Epoch 3/3, average Loss: 0.0022176947 \n",
      "Epoch 3/3, average Loss: 0.0022295606 \n",
      "Epoch 3/3, average Loss: 0.0022423930 \n",
      "Epoch 3/3, average Loss: 0.0022533079 \n",
      "Epoch 3/3, average Loss: 0.0022651057 \n",
      "Epoch 3/3, average Loss: 0.0022782398 \n",
      "Epoch 3/3, average Loss: 0.0022948454 \n",
      "Epoch 3/3, average Loss: 0.0023083822 \n",
      "Epoch 3/3, average Loss: 0.0023206451 \n",
      "Epoch 3/3, average Loss: 0.0023306762 \n",
      "Epoch 3/3, average Loss: 0.0023470086 \n",
      "Epoch 3/3, average Loss: 0.0024287210 \n",
      "Epoch 3/3, average Loss: 0.0024407048 \n",
      "Epoch 3/3, average Loss: 0.0024519014 \n",
      "Epoch 3/3, average Loss: 0.0024754133 \n",
      "Epoch 3/3, average Loss: 0.0024938414 \n",
      "Epoch 3/3, average Loss: 0.0025083140 \n",
      "Epoch 3/3, average Loss: 0.0025197157 \n",
      "Epoch 3/3, average Loss: 0.0025293521 \n",
      "Epoch 3/3, average Loss: 0.0025437653 \n",
      "Epoch 3/3, average Loss: 0.0025561580 \n",
      "Epoch 3/3, average Loss: 0.0025654386 \n",
      "Epoch 3/3, average Loss: 0.0026671722 \n",
      "Epoch 3/3, average Loss: 0.0026789515 \n",
      "Epoch 3/3, average Loss: 0.0026903583 \n",
      "Epoch 3/3, average Loss: 0.0026984584 \n",
      "Epoch 3/3, average Loss: 0.0027095723 \n",
      "Epoch 3/3, average Loss: 0.0027227213 \n",
      "Epoch 3/3, average Loss: 0.0027382313 \n",
      "Epoch 3/3, average Loss: 0.0027491904 \n",
      "Epoch 3/3, average Loss: 0.0027659230 \n",
      "Epoch 3/3, average Loss: 0.0027768566 \n",
      "Epoch 3/3, average Loss: 0.0027911443 \n",
      "Epoch 3/3, average Loss: 0.0028040413 \n",
      "Epoch 3/3, average Loss: 0.0028154048 \n",
      "Epoch 3/3, average Loss: 0.0028299426 \n",
      "Epoch 3/3, average Loss: 0.0028380595 \n",
      "Epoch 3/3, average Loss: 0.0028503087 \n",
      "Epoch 3/3, average Loss: 0.0028612600 \n",
      "Epoch 3/3, average Loss: 0.0028730063 \n",
      "Epoch 3/3, average Loss: 0.0028856498 \n",
      "Epoch 3/3, average Loss: 0.0028960854 \n",
      "Epoch 3/3, average Loss: 0.0029062900 \n",
      "Epoch 3/3, average Loss: 0.0029938949 \n",
      "Epoch 3/3, average Loss: 0.0030113795 \n",
      "Epoch 3/3, average Loss: 0.0030821059 \n",
      "Epoch 3/3, average Loss: 0.0030932836 \n",
      "Epoch 3/3, average Loss: 0.0031597282 \n",
      "Epoch 3/3, average Loss: 0.0031699458 \n",
      "Epoch 3/3, average Loss: 0.0037664105 \n",
      "Epoch 3/3, average Loss: 0.0037746392 \n",
      "Epoch 3/3, average Loss: 0.0038316451 \n",
      "Epoch 3/3, average Loss: 0.0038441317 \n",
      "Epoch 3/3, average Loss: 0.0038592787 \n",
      "Epoch 3/3, average Loss: 0.0038708897 \n",
      "Epoch 3/3, average Loss: 0.0039229752 \n",
      "Epoch 3/3, average Loss: 0.0039336662 \n",
      "Epoch 3/3, average Loss: 0.0039527598 \n",
      "Epoch 3/3, average Loss: 0.0039605625 \n",
      "Epoch 3/3, average Loss: 0.0040447521 \n",
      "Epoch 3/3, average Loss: 0.0040574406 \n",
      "Epoch 3/3, average Loss: 0.0040676875 \n",
      "Epoch 3/3, average Loss: 0.0040838572 \n",
      "Epoch 3/3, average Loss: 0.0041005967 \n"
     ]
    }
   ],
   "source": [
    "model.train()\n",
    "epochs = 3\n",
    "losses = []\n",
    "for epoch in range(epochs):\n",
    "    total_loss = 0\n",
    "    for batch in train_loader:\n",
    "        optimizer.zero_grad()\n",
    "        inputs = {key: val.to(model.device) for key, val in batch.items()}\n",
    "        outputs = model(**inputs)\n",
    "        # outputs.loss is CrossEntropyLoss inside BERT\n",
    "\n",
    "        loss = outputs.loss\n",
    "        total_loss += loss.item()\n",
    "        loss.backward()\n",
    "        optimizer.step()\n",
    "\n",
    "        avg_epoch_loss = total_loss / len(train_loader)\n",
    "        losses.append(avg_epoch_loss)\n",
    "        #losses.append(loss.item())\n",
    "        print(f'Epoch {epoch + 1}/{epochs}, average Loss: {avg_epoch_loss:.10f} ')"
   ]
  },
  {
   "cell_type": "code",
   "execution_count": 45,
   "metadata": {
    "id": "qsdCWgmPEgpl"
   },
   "outputs": [],
   "source": [
    "#Finding out metrics such as accuracy, recall, precision and f1 score\n",
    "from sklearn.metrics import accuracy_score, precision_score, recall_score, f1_score"
   ]
  },
  {
   "cell_type": "markdown",
   "metadata": {
    "id": "jtQxoT59Khm0"
   },
   "source": [
    "6.5. Evaluation du modèle"
   ]
  },
  {
   "cell_type": "code",
   "execution_count": 46,
   "metadata": {
    "colab": {
     "base_uri": "https://localhost:8080/"
    },
    "id": "CIsd3CAuEjsI",
    "outputId": "25059a88-54b1-4557-aa18-09ed7357bc7d"
   },
   "outputs": [
    {
     "name": "stdout",
     "output_type": "stream",
     "text": [
      "Accuracy: 0.9950\n",
      "Precision: 0.5600\n",
      "Recall: 0.5988\n",
      "F1 Score: 0.5772\n"
     ]
    },
    {
     "name": "stderr",
     "output_type": "stream",
     "text": [
      "/usr/local/lib/python3.11/dist-packages/sklearn/metrics/_classification.py:1565: UndefinedMetricWarning: Precision is ill-defined and being set to 0.0 in labels with no predicted samples. Use `zero_division` parameter to control this behavior.\n",
      "  _warn_prf(average, modifier, f\"{metric.capitalize()} is\", len(result))\n",
      "/usr/local/lib/python3.11/dist-packages/sklearn/metrics/_classification.py:1565: UndefinedMetricWarning: Recall is ill-defined and being set to 0.0 in labels with no true samples. Use `zero_division` parameter to control this behavior.\n",
      "  _warn_prf(average, modifier, f\"{metric.capitalize()} is\", len(result))\n",
      "/usr/local/lib/python3.11/dist-packages/sklearn/metrics/_classification.py:1565: UndefinedMetricWarning: F-score is ill-defined and being set to 0.0 in labels with no true nor predicted samples. Use `zero_division` parameter to control this behavior.\n",
      "  _warn_prf(average, modifier, f\"{metric.capitalize()} is\", len(result))\n"
     ]
    }
   ],
   "source": [
    "model.eval()\n",
    "\n",
    "y_preds = []\n",
    "y_true = []\n",
    "\n",
    "with torch.no_grad():\n",
    "    for batch in test_loader:\n",
    "        inputs = {key: val.to(model.device) for key, val in batch.items()}\n",
    "        outputs = model(**inputs)\n",
    "        logits = outputs.logits\n",
    "        preds = torch.argmax(logits, dim=1)\n",
    "        y_preds.extend(preds.cpu().numpy())\n",
    "        y_true.extend(batch['labels'].cpu().numpy())\n",
    "\n",
    "y_preds = np.array(y_preds)\n",
    "y_true = np.array(y_true)\n",
    "\n",
    "num_classes = len(label_encoder.classes_)\n",
    "\n",
    "accuracy = accuracy_score(y_true, y_preds)\n",
    "precision = precision_score(y_true, y_preds, average='macro', labels=np.arange(num_classes))\n",
    "recall = recall_score(y_true, y_preds, average='macro', labels=np.arange(num_classes))\n",
    "f1 = f1_score(y_true, y_preds, average='macro', labels=np.arange(num_classes))\n",
    "\n",
    "print(f'Accuracy: {accuracy:.4f}')\n",
    "print(f'Precision: {precision:.4f}')\n",
    "print(f'Recall: {recall:.4f}')\n",
    "print(f'F1 Score: {f1:.4f}')"
   ]
  },
  {
   "cell_type": "code",
   "execution_count": 48,
   "metadata": {
    "colab": {
     "base_uri": "https://localhost:8080/"
    },
    "id": "K-P8o-F7E925",
    "outputId": "ebe88547-cfbd-4d71-fb60-5864dce85390"
   },
   "outputs": [
    {
     "data": {
      "text/plain": [
       "BertForSequenceClassification(\n",
       "  (bert): BertModel(\n",
       "    (embeddings): BertEmbeddings(\n",
       "      (word_embeddings): Embedding(30522, 768, padding_idx=0)\n",
       "      (position_embeddings): Embedding(512, 768)\n",
       "      (token_type_embeddings): Embedding(2, 768)\n",
       "      (LayerNorm): LayerNorm((768,), eps=1e-12, elementwise_affine=True)\n",
       "      (dropout): Dropout(p=0.1, inplace=False)\n",
       "    )\n",
       "    (encoder): BertEncoder(\n",
       "      (layer): ModuleList(\n",
       "        (0-11): 12 x BertLayer(\n",
       "          (attention): BertAttention(\n",
       "            (self): BertSdpaSelfAttention(\n",
       "              (query): Linear(in_features=768, out_features=768, bias=True)\n",
       "              (key): Linear(in_features=768, out_features=768, bias=True)\n",
       "              (value): Linear(in_features=768, out_features=768, bias=True)\n",
       "              (dropout): Dropout(p=0.1, inplace=False)\n",
       "            )\n",
       "            (output): BertSelfOutput(\n",
       "              (dense): Linear(in_features=768, out_features=768, bias=True)\n",
       "              (LayerNorm): LayerNorm((768,), eps=1e-12, elementwise_affine=True)\n",
       "              (dropout): Dropout(p=0.1, inplace=False)\n",
       "            )\n",
       "          )\n",
       "          (intermediate): BertIntermediate(\n",
       "            (dense): Linear(in_features=768, out_features=3072, bias=True)\n",
       "            (intermediate_act_fn): GELUActivation()\n",
       "          )\n",
       "          (output): BertOutput(\n",
       "            (dense): Linear(in_features=3072, out_features=768, bias=True)\n",
       "            (LayerNorm): LayerNorm((768,), eps=1e-12, elementwise_affine=True)\n",
       "            (dropout): Dropout(p=0.1, inplace=False)\n",
       "          )\n",
       "        )\n",
       "      )\n",
       "    )\n",
       "    (pooler): BertPooler(\n",
       "      (dense): Linear(in_features=768, out_features=768, bias=True)\n",
       "      (activation): Tanh()\n",
       "    )\n",
       "  )\n",
       "  (dropout): Dropout(p=0.1, inplace=False)\n",
       "  (classifier): Linear(in_features=768, out_features=5, bias=True)\n",
       ")"
      ]
     },
     "execution_count": 48,
     "metadata": {},
     "output_type": "execute_result"
    }
   ],
   "source": [
    "model.eval()"
   ]
  },
  {
   "cell_type": "markdown",
   "metadata": {
    "id": "FUzv9wTeKyZj"
   },
   "source": [
    "7. Test du modele"
   ]
  },
  {
   "cell_type": "markdown",
   "metadata": {
    "id": "M83ML_IfK89E"
   },
   "source": [
    "Nous avons utilisé 5 tweets pour vérifier la performance de ce modèle, un choix était porté aléatoirement dans chaque type selon le tweet cela veut dire : \"sexual_violence\",\"physical_violence\", \"Harmful_Traditional_practice\", \"emotional_violence\" et \"economic_violence\" parmi ces modalités nous avions selectionné les tweets pour chaque modalités."
   ]
  },
  {
   "cell_type": "markdown",
   "metadata": {
    "id": "2OQGuZbDK3xQ"
   },
   "source": [
    "7.1. Premier tweet"
   ]
  },
  {
   "cell_type": "code",
   "execution_count": 49,
   "metadata": {
    "colab": {
     "base_uri": "https://localhost:8080/"
    },
    "id": "Ijr5_cQeEocM",
    "outputId": "ecab8e59-1c81-46da-bd64-9766f57b1c48"
   },
   "outputs": [
    {
     "name": "stdout",
     "output_type": "stream",
     "text": [
      "sexual_violence\n"
     ]
    }
   ],
   "source": [
    "text = \"My paedophile stepbrother raped me while I was about 5 years old. He threatened to kill me if I told anyone. . Part 1.\"\n",
    "inputs = tokenizer(text, padding=True, truncation=True, max_length=512, return_tensors='pt').to(model.device)\n",
    "with torch.no_grad():\n",
    "    outputs = model(**inputs)\n",
    "    logits = outputs.logits\n",
    "    preds = torch.argmax(logits, dim=1)\n",
    "label = label_encoder.inverse_transform(preds.cpu().numpy())[0]\n",
    "print(label)"
   ]
  },
  {
   "cell_type": "markdown",
   "metadata": {
    "id": "xmN5VtV1LUVR"
   },
   "source": [
    "7.2. Deuxième tweet"
   ]
  },
  {
   "cell_type": "code",
   "execution_count": 50,
   "metadata": {
    "colab": {
     "base_uri": "https://localhost:8080/"
    },
    "id": "brceb62XLXne",
    "outputId": "f97dbd0e-493c-46c2-88a0-668cd69063cb"
   },
   "outputs": [
    {
     "name": "stdout",
     "output_type": "stream",
     "text": [
      "Physical_violence\n"
     ]
    }
   ],
   "source": [
    "text = \"My husband does NOT beat me...  The wife of Githunguri MP  has denied allegations that her husband beats her.Last week bloggers shared images of her with burns.  It was reported that the husband burnt her with...  \"\n",
    "inputs = tokenizer(text, padding=True, truncation=True, max_length=512, return_tensors='pt').to(model.device)\n",
    "with torch.no_grad():\n",
    "    outputs = model(**inputs)\n",
    "    logits = outputs.logits\n",
    "    preds = torch.argmax(logits, dim=1)\n",
    "label = label_encoder.inverse_transform(preds.cpu().numpy())[0]\n",
    "print(label)"
   ]
  },
  {
   "cell_type": "markdown",
   "metadata": {
    "id": "0QIlAxIoM2us"
   },
   "source": [
    "7.3. Troisème tweet"
   ]
  },
  {
   "cell_type": "code",
   "execution_count": 53,
   "metadata": {
    "colab": {
     "base_uri": "https://localhost:8080/"
    },
    "id": "ynJMWTHfMlUz",
    "outputId": "7f6d86c9-5791-45dd-c90f-20b1b34b7d02"
   },
   "outputs": [
    {
     "name": "stdout",
     "output_type": "stream",
     "text": [
      "Harmful_Traditional_practice\n"
     ]
    }
   ],
   "source": [
    "text = \"i was just watching a segment on indias child marriage &amp; i cant help but feel so bad for these little girls getting forced to marry\"\n",
    "inputs = tokenizer(text, padding=True, truncation=True, max_length=512, return_tensors='pt').to(model.device)\n",
    "with torch.no_grad():\n",
    "    outputs = model(**inputs)\n",
    "    logits = outputs.logits\n",
    "    preds = torch.argmax(logits, dim=1)\n",
    "label = label_encoder.inverse_transform(preds.cpu().numpy())[0]\n",
    "print(label)"
   ]
  },
  {
   "cell_type": "markdown",
   "metadata": {
    "id": "ZvjFAno9NDBx"
   },
   "source": [
    "7.4. Quatrième tweet"
   ]
  },
  {
   "cell_type": "code",
   "execution_count": 52,
   "metadata": {
    "colab": {
     "base_uri": "https://localhost:8080/"
    },
    "id": "GjWfP7pdMlJW",
    "outputId": "9836317b-790d-47bc-d202-2cca39d0e6b2"
   },
   "outputs": [
    {
     "name": "stdout",
     "output_type": "stream",
     "text": [
      "economic_violence\n"
     ]
    }
   ],
   "source": [
    "text = \"I literally got fired from a job I just got because I was asking too many questions. HOW DID I ASK TOO MANY QUESTION WOMAN IT WAS MY 2ND DAY\"\n",
    "inputs = tokenizer(text, padding=True, truncation=True, max_length=512, return_tensors='pt').to(model.device)\n",
    "with torch.no_grad():\n",
    "    outputs = model(**inputs)\n",
    "    logits = outputs.logits\n",
    "    preds = torch.argmax(logits, dim=1)\n",
    "label = label_encoder.inverse_transform(preds.cpu().numpy())[0]\n",
    "print(label)"
   ]
  },
  {
   "cell_type": "markdown",
   "metadata": {
    "id": "6tZZwKucNlHt"
   },
   "source": [
    "7.5. Cinquième tweet"
   ]
  },
  {
   "cell_type": "code",
   "execution_count": 54,
   "metadata": {
    "colab": {
     "base_uri": "https://localhost:8080/"
    },
    "id": "Xyt-Va2wNpX7",
    "outputId": "a8682d99-4a47-413e-daa4-76e6671fe41a"
   },
   "outputs": [
    {
     "name": "stdout",
     "output_type": "stream",
     "text": [
      "emotional_violence\n"
     ]
    }
   ],
   "source": [
    "text = \"Lowkey stil affected by all the times he humiliated n put me down in public =( n looking out to ppl around seeing their reactions\"\n",
    "inputs = tokenizer(text, padding=True, truncation=True, max_length=512, return_tensors='pt').to(model.device)\n",
    "with torch.no_grad():\n",
    "    outputs = model(**inputs)\n",
    "    logits = outputs.logits\n",
    "    preds = torch.argmax(logits, dim=1)\n",
    "label = label_encoder.inverse_transform(preds.cpu().numpy())[0]\n",
    "print(label)"
   ]
  },
  {
   "cell_type": "markdown",
   "metadata": {
    "id": "AK7DlrZxOx4V"
   },
   "source": [
    "8. Enregistrement du modèle"
   ]
  },
  {
   "cell_type": "markdown",
   "metadata": {
    "id": "N_fz7ZhXO53z"
   },
   "source": [
    "8.1. Bibliothèques"
   ]
  },
  {
   "cell_type": "code",
   "execution_count": 55,
   "metadata": {
    "id": "RD95FPfYO5HU"
   },
   "outputs": [],
   "source": [
    "import os\n",
    "import joblib"
   ]
  },
  {
   "cell_type": "code",
   "execution_count": 56,
   "metadata": {
    "colab": {
     "base_uri": "https://localhost:8080/"
    },
    "id": "fyzS_D9yG_Rm",
    "outputId": "b5f15ca6-0f3d-42f3-9a94-7035c3dd7c57"
   },
   "outputs": [
    {
     "data": {
      "text/plain": [
       "['modele/bert_tweet_classifier_ben/label_encoder.pkl']"
      ]
     },
     "execution_count": 56,
     "metadata": {},
     "output_type": "execute_result"
    }
   ],
   "source": [
    "save_dir = \"modele/bert_tweet_classifier_ben\"\n",
    "os.makedirs(save_dir, exist_ok=True)\n",
    "\n",
    "model.save_pretrained(save_dir)\n",
    "tokenizer.save_pretrained(save_dir)\n",
    "joblib.dump(label_encoder, os.path.join(save_dir, \"label_encoder.pkl\"))"
   ]
  },
  {
   "cell_type": "code",
   "execution_count": 57,
   "metadata": {
    "colab": {
     "base_uri": "https://localhost:8080/"
    },
    "id": "Ufj1LMGRHf_k",
    "outputId": "b47e4b99-f3c9-4481-d533-4d59c16ef7a8"
   },
   "outputs": [
    {
     "data": {
      "text/plain": [
       "BertForSequenceClassification(\n",
       "  (bert): BertModel(\n",
       "    (embeddings): BertEmbeddings(\n",
       "      (word_embeddings): Embedding(30522, 768, padding_idx=0)\n",
       "      (position_embeddings): Embedding(512, 768)\n",
       "      (token_type_embeddings): Embedding(2, 768)\n",
       "      (LayerNorm): LayerNorm((768,), eps=1e-12, elementwise_affine=True)\n",
       "      (dropout): Dropout(p=0.1, inplace=False)\n",
       "    )\n",
       "    (encoder): BertEncoder(\n",
       "      (layer): ModuleList(\n",
       "        (0-11): 12 x BertLayer(\n",
       "          (attention): BertAttention(\n",
       "            (self): BertSdpaSelfAttention(\n",
       "              (query): Linear(in_features=768, out_features=768, bias=True)\n",
       "              (key): Linear(in_features=768, out_features=768, bias=True)\n",
       "              (value): Linear(in_features=768, out_features=768, bias=True)\n",
       "              (dropout): Dropout(p=0.1, inplace=False)\n",
       "            )\n",
       "            (output): BertSelfOutput(\n",
       "              (dense): Linear(in_features=768, out_features=768, bias=True)\n",
       "              (LayerNorm): LayerNorm((768,), eps=1e-12, elementwise_affine=True)\n",
       "              (dropout): Dropout(p=0.1, inplace=False)\n",
       "            )\n",
       "          )\n",
       "          (intermediate): BertIntermediate(\n",
       "            (dense): Linear(in_features=768, out_features=3072, bias=True)\n",
       "            (intermediate_act_fn): GELUActivation()\n",
       "          )\n",
       "          (output): BertOutput(\n",
       "            (dense): Linear(in_features=3072, out_features=768, bias=True)\n",
       "            (LayerNorm): LayerNorm((768,), eps=1e-12, elementwise_affine=True)\n",
       "            (dropout): Dropout(p=0.1, inplace=False)\n",
       "          )\n",
       "        )\n",
       "      )\n",
       "    )\n",
       "    (pooler): BertPooler(\n",
       "      (dense): Linear(in_features=768, out_features=768, bias=True)\n",
       "      (activation): Tanh()\n",
       "    )\n",
       "  )\n",
       "  (dropout): Dropout(p=0.1, inplace=False)\n",
       "  (classifier): Linear(in_features=768, out_features=5, bias=True)\n",
       ")"
      ]
     },
     "execution_count": 57,
     "metadata": {},
     "output_type": "execute_result"
    }
   ],
   "source": [
    "device = torch.device(\"cuda\" if torch.cuda.is_available() else \"cpu\")\n",
    "\n",
    "model = BertForSequenceClassification.from_pretrained(save_dir,local_files_only=True).to(device)\n",
    "tokenizer = BertTokenizer.from_pretrained(save_dir,local_files_only=True)\n",
    "label_encoder = joblib.load(os.path.join(save_dir, \"label_encoder.pkl\"))\n",
    "\n",
    "model.eval()"
   ]
  },
  {
   "cell_type": "code",
   "execution_count": 58,
   "metadata": {
    "id": "Pxr_oP3wI506"
   },
   "outputs": [],
   "source": [
    "def predict(tweet_text):\n",
    "    encoding = tokenizer(tweet_text, return_tensors='pt', truncation=True, padding='max_length', max_length=128)\n",
    "    input_ids = encoding['input_ids'].to(device)\n",
    "    attention_mask = encoding['attention_mask'].to(device)\n",
    "\n",
    "    with torch.no_grad():\n",
    "        outputs = model(input_ids=input_ids, attention_mask=attention_mask)\n",
    "        logits = outputs.logits\n",
    "        predicted_class = torch.argmax(logits, dim=1).item()\n",
    "\n",
    "    predicted_label = label_encoder.inverse_transform([predicted_class])[0]\n",
    "    return predicted_label"
   ]
  },
  {
   "cell_type": "code",
   "execution_count": 59,
   "metadata": {
    "colab": {
     "base_uri": "https://localhost:8080/"
    },
    "id": "CcgNY_-JJiiM",
    "outputId": "cffc7f00-4dde-43ac-c5e4-d29b49fc6b2e"
   },
   "outputs": [
    {
     "name": "stdout",
     "output_type": "stream",
     "text": [
      "Collecting gradio\n",
      "  Downloading gradio-5.31.0-py3-none-any.whl.metadata (16 kB)\n",
      "Collecting aiofiles<25.0,>=22.0 (from gradio)\n",
      "  Downloading aiofiles-24.1.0-py3-none-any.whl.metadata (10 kB)\n",
      "Requirement already satisfied: anyio<5.0,>=3.0 in /usr/local/lib/python3.11/dist-packages (from gradio) (4.9.0)\n",
      "Collecting fastapi<1.0,>=0.115.2 (from gradio)\n",
      "  Downloading fastapi-0.115.12-py3-none-any.whl.metadata (27 kB)\n",
      "Collecting ffmpy (from gradio)\n",
      "  Downloading ffmpy-0.5.0-py3-none-any.whl.metadata (3.0 kB)\n",
      "Collecting gradio-client==1.10.1 (from gradio)\n",
      "  Downloading gradio_client-1.10.1-py3-none-any.whl.metadata (7.1 kB)\n",
      "Collecting groovy~=0.1 (from gradio)\n",
      "  Downloading groovy-0.1.2-py3-none-any.whl.metadata (6.1 kB)\n",
      "Requirement already satisfied: httpx>=0.24.1 in /usr/local/lib/python3.11/dist-packages (from gradio) (0.28.1)\n",
      "Requirement already satisfied: huggingface-hub>=0.28.1 in /usr/local/lib/python3.11/dist-packages (from gradio) (0.31.2)\n",
      "Requirement already satisfied: jinja2<4.0 in /usr/local/lib/python3.11/dist-packages (from gradio) (3.1.6)\n",
      "Requirement already satisfied: markupsafe<4.0,>=2.0 in /usr/local/lib/python3.11/dist-packages (from gradio) (3.0.2)\n",
      "Requirement already satisfied: numpy<3.0,>=1.0 in /usr/local/lib/python3.11/dist-packages (from gradio) (2.0.2)\n",
      "Requirement already satisfied: orjson~=3.0 in /usr/local/lib/python3.11/dist-packages (from gradio) (3.10.18)\n",
      "Requirement already satisfied: packaging in /usr/local/lib/python3.11/dist-packages (from gradio) (24.2)\n",
      "Requirement already satisfied: pandas<3.0,>=1.0 in /usr/local/lib/python3.11/dist-packages (from gradio) (2.2.2)\n",
      "Requirement already satisfied: pillow<12.0,>=8.0 in /usr/local/lib/python3.11/dist-packages (from gradio) (11.2.1)\n",
      "Requirement already satisfied: pydantic<2.12,>=2.0 in /usr/local/lib/python3.11/dist-packages (from gradio) (2.11.4)\n",
      "Collecting pydub (from gradio)\n",
      "  Downloading pydub-0.25.1-py2.py3-none-any.whl.metadata (1.4 kB)\n",
      "Collecting python-multipart>=0.0.18 (from gradio)\n",
      "  Downloading python_multipart-0.0.20-py3-none-any.whl.metadata (1.8 kB)\n",
      "Requirement already satisfied: pyyaml<7.0,>=5.0 in /usr/local/lib/python3.11/dist-packages (from gradio) (6.0.2)\n",
      "Collecting ruff>=0.9.3 (from gradio)\n",
      "  Downloading ruff-0.11.11-py3-none-manylinux_2_17_x86_64.manylinux2014_x86_64.whl.metadata (25 kB)\n",
      "Collecting safehttpx<0.2.0,>=0.1.6 (from gradio)\n",
      "  Downloading safehttpx-0.1.6-py3-none-any.whl.metadata (4.2 kB)\n",
      "Collecting semantic-version~=2.0 (from gradio)\n",
      "  Downloading semantic_version-2.10.0-py2.py3-none-any.whl.metadata (9.7 kB)\n",
      "Collecting starlette<1.0,>=0.40.0 (from gradio)\n",
      "  Downloading starlette-0.46.2-py3-none-any.whl.metadata (6.2 kB)\n",
      "Collecting tomlkit<0.14.0,>=0.12.0 (from gradio)\n",
      "  Downloading tomlkit-0.13.2-py3-none-any.whl.metadata (2.7 kB)\n",
      "Requirement already satisfied: typer<1.0,>=0.12 in /usr/local/lib/python3.11/dist-packages (from gradio) (0.15.3)\n",
      "Requirement already satisfied: typing-extensions~=4.0 in /usr/local/lib/python3.11/dist-packages (from gradio) (4.13.2)\n",
      "Collecting uvicorn>=0.14.0 (from gradio)\n",
      "  Downloading uvicorn-0.34.2-py3-none-any.whl.metadata (6.5 kB)\n",
      "Requirement already satisfied: fsspec in /usr/local/lib/python3.11/dist-packages (from gradio-client==1.10.1->gradio) (2025.3.2)\n",
      "Requirement already satisfied: websockets<16.0,>=10.0 in /usr/local/lib/python3.11/dist-packages (from gradio-client==1.10.1->gradio) (15.0.1)\n",
      "Requirement already satisfied: idna>=2.8 in /usr/local/lib/python3.11/dist-packages (from anyio<5.0,>=3.0->gradio) (3.10)\n",
      "Requirement already satisfied: sniffio>=1.1 in /usr/local/lib/python3.11/dist-packages (from anyio<5.0,>=3.0->gradio) (1.3.1)\n",
      "Requirement already satisfied: certifi in /usr/local/lib/python3.11/dist-packages (from httpx>=0.24.1->gradio) (2025.4.26)\n",
      "Requirement already satisfied: httpcore==1.* in /usr/local/lib/python3.11/dist-packages (from httpx>=0.24.1->gradio) (1.0.9)\n",
      "Requirement already satisfied: h11>=0.16 in /usr/local/lib/python3.11/dist-packages (from httpcore==1.*->httpx>=0.24.1->gradio) (0.16.0)\n",
      "Requirement already satisfied: filelock in /usr/local/lib/python3.11/dist-packages (from huggingface-hub>=0.28.1->gradio) (3.18.0)\n",
      "Requirement already satisfied: requests in /usr/local/lib/python3.11/dist-packages (from huggingface-hub>=0.28.1->gradio) (2.32.3)\n",
      "Requirement already satisfied: tqdm>=4.42.1 in /usr/local/lib/python3.11/dist-packages (from huggingface-hub>=0.28.1->gradio) (4.67.1)\n",
      "Requirement already satisfied: python-dateutil>=2.8.2 in /usr/local/lib/python3.11/dist-packages (from pandas<3.0,>=1.0->gradio) (2.9.0.post0)\n",
      "Requirement already satisfied: pytz>=2020.1 in /usr/local/lib/python3.11/dist-packages (from pandas<3.0,>=1.0->gradio) (2025.2)\n",
      "Requirement already satisfied: tzdata>=2022.7 in /usr/local/lib/python3.11/dist-packages (from pandas<3.0,>=1.0->gradio) (2025.2)\n",
      "Requirement already satisfied: annotated-types>=0.6.0 in /usr/local/lib/python3.11/dist-packages (from pydantic<2.12,>=2.0->gradio) (0.7.0)\n",
      "Requirement already satisfied: pydantic-core==2.33.2 in /usr/local/lib/python3.11/dist-packages (from pydantic<2.12,>=2.0->gradio) (2.33.2)\n",
      "Requirement already satisfied: typing-inspection>=0.4.0 in /usr/local/lib/python3.11/dist-packages (from pydantic<2.12,>=2.0->gradio) (0.4.0)\n",
      "Requirement already satisfied: click>=8.0.0 in /usr/local/lib/python3.11/dist-packages (from typer<1.0,>=0.12->gradio) (8.2.0)\n",
      "Requirement already satisfied: shellingham>=1.3.0 in /usr/local/lib/python3.11/dist-packages (from typer<1.0,>=0.12->gradio) (1.5.4)\n",
      "Requirement already satisfied: rich>=10.11.0 in /usr/local/lib/python3.11/dist-packages (from typer<1.0,>=0.12->gradio) (13.9.4)\n",
      "Requirement already satisfied: six>=1.5 in /usr/local/lib/python3.11/dist-packages (from python-dateutil>=2.8.2->pandas<3.0,>=1.0->gradio) (1.17.0)\n",
      "Requirement already satisfied: markdown-it-py>=2.2.0 in /usr/local/lib/python3.11/dist-packages (from rich>=10.11.0->typer<1.0,>=0.12->gradio) (3.0.0)\n",
      "Requirement already satisfied: pygments<3.0.0,>=2.13.0 in /usr/local/lib/python3.11/dist-packages (from rich>=10.11.0->typer<1.0,>=0.12->gradio) (2.19.1)\n",
      "Requirement already satisfied: charset-normalizer<4,>=2 in /usr/local/lib/python3.11/dist-packages (from requests->huggingface-hub>=0.28.1->gradio) (3.4.2)\n",
      "Requirement already satisfied: urllib3<3,>=1.21.1 in /usr/local/lib/python3.11/dist-packages (from requests->huggingface-hub>=0.28.1->gradio) (2.4.0)\n",
      "Requirement already satisfied: mdurl~=0.1 in /usr/local/lib/python3.11/dist-packages (from markdown-it-py>=2.2.0->rich>=10.11.0->typer<1.0,>=0.12->gradio) (0.1.2)\n",
      "Downloading gradio-5.31.0-py3-none-any.whl (54.2 MB)\n",
      "\u001b[2K   \u001b[90m━━━━━━━━━━━━━━━━━━━━━━━━━━━━━━━━━━━━━━━━\u001b[0m \u001b[32m54.2/54.2 MB\u001b[0m \u001b[31m13.4 MB/s\u001b[0m eta \u001b[36m0:00:00\u001b[0m\n",
      "\u001b[?25hDownloading gradio_client-1.10.1-py3-none-any.whl (323 kB)\n",
      "\u001b[2K   \u001b[90m━━━━━━━━━━━━━━━━━━━━━━━━━━━━━━━━━━━━━━━━\u001b[0m \u001b[32m323.1/323.1 kB\u001b[0m \u001b[31m20.7 MB/s\u001b[0m eta \u001b[36m0:00:00\u001b[0m\n",
      "\u001b[?25hDownloading aiofiles-24.1.0-py3-none-any.whl (15 kB)\n",
      "Downloading fastapi-0.115.12-py3-none-any.whl (95 kB)\n",
      "\u001b[2K   \u001b[90m━━━━━━━━━━━━━━━━━━━━━━━━━━━━━━━━━━━━━━━━\u001b[0m \u001b[32m95.2/95.2 kB\u001b[0m \u001b[31m5.5 MB/s\u001b[0m eta \u001b[36m0:00:00\u001b[0m\n",
      "\u001b[?25hDownloading groovy-0.1.2-py3-none-any.whl (14 kB)\n",
      "Downloading python_multipart-0.0.20-py3-none-any.whl (24 kB)\n",
      "Downloading ruff-0.11.11-py3-none-manylinux_2_17_x86_64.manylinux2014_x86_64.whl (11.5 MB)\n",
      "\u001b[2K   \u001b[90m━━━━━━━━━━━━━━━━━━━━━━━━━━━━━━━━━━━━━━━━\u001b[0m \u001b[32m11.5/11.5 MB\u001b[0m \u001b[31m101.3 MB/s\u001b[0m eta \u001b[36m0:00:00\u001b[0m\n",
      "\u001b[?25hDownloading safehttpx-0.1.6-py3-none-any.whl (8.7 kB)\n",
      "Downloading semantic_version-2.10.0-py2.py3-none-any.whl (15 kB)\n",
      "Downloading starlette-0.46.2-py3-none-any.whl (72 kB)\n",
      "\u001b[2K   \u001b[90m━━━━━━━━━━━━━━━━━━━━━━━━━━━━━━━━━━━━━━━━\u001b[0m \u001b[32m72.0/72.0 kB\u001b[0m \u001b[31m4.8 MB/s\u001b[0m eta \u001b[36m0:00:00\u001b[0m\n",
      "\u001b[?25hDownloading tomlkit-0.13.2-py3-none-any.whl (37 kB)\n",
      "Downloading uvicorn-0.34.2-py3-none-any.whl (62 kB)\n",
      "\u001b[2K   \u001b[90m━━━━━━━━━━━━━━━━━━━━━━━━━━━━━━━━━━━━━━━━\u001b[0m \u001b[32m62.5/62.5 kB\u001b[0m \u001b[31m4.3 MB/s\u001b[0m eta \u001b[36m0:00:00\u001b[0m\n",
      "\u001b[?25hDownloading ffmpy-0.5.0-py3-none-any.whl (6.0 kB)\n",
      "Downloading pydub-0.25.1-py2.py3-none-any.whl (32 kB)\n",
      "Installing collected packages: pydub, uvicorn, tomlkit, semantic-version, ruff, python-multipart, groovy, ffmpy, aiofiles, starlette, safehttpx, gradio-client, fastapi, gradio\n",
      "Successfully installed aiofiles-24.1.0 fastapi-0.115.12 ffmpy-0.5.0 gradio-5.31.0 gradio-client-1.10.1 groovy-0.1.2 pydub-0.25.1 python-multipart-0.0.20 ruff-0.11.11 safehttpx-0.1.6 semantic-version-2.10.0 starlette-0.46.2 tomlkit-0.13.2 uvicorn-0.34.2\n"
     ]
    }
   ],
   "source": [
    "!pip install gradio"
   ]
  },
  {
   "cell_type": "code",
   "execution_count": 60,
   "metadata": {
    "colab": {
     "base_uri": "https://localhost:8080/",
     "height": 646
    },
    "id": "gi2OsZ3YJB2X",
    "outputId": "d66a3d3e-9c80-4efd-b89c-2d8e18a55aab"
   },
   "outputs": [
    {
     "name": "stdout",
     "output_type": "stream",
     "text": [
      "It looks like you are running Gradio on a hosted a Jupyter notebook. For the Gradio app to work, sharing must be enabled. Automatically setting `share=True` (you can turn this off by setting `share=False` in `launch()` explicitly).\n",
      "\n",
      "Colab notebook detected. To show errors in colab notebook, set debug=True in launch()\n",
      "* Running on public URL: https://fa24ff4b28be6a7257.gradio.live\n",
      "\n",
      "This share link expires in 1 week. For free permanent hosting and GPU upgrades, run `gradio deploy` from the terminal in the working directory to deploy to Hugging Face Spaces (https://huggingface.co/spaces)\n"
     ]
    },
    {
     "data": {
      "text/html": [
       "<div><iframe src=\"https://fa24ff4b28be6a7257.gradio.live\" width=\"100%\" height=\"500\" allow=\"autoplay; camera; microphone; clipboard-read; clipboard-write;\" frameborder=\"0\" allowfullscreen></iframe></div>"
      ],
      "text/plain": [
       "<IPython.core.display.HTML object>"
      ]
     },
     "metadata": {},
     "output_type": "display_data"
    },
    {
     "data": {
      "text/plain": []
     },
     "execution_count": 60,
     "metadata": {},
     "output_type": "execute_result"
    }
   ],
   "source": [
    "import gradio as gr\n",
    "\n",
    "interface = gr.Interface(\n",
    "    fn=predict,\n",
    "    inputs=gr.Textbox(lines=3, placeholder=\"My paedophile stepbrother raped me while I was about 5 years old. He threatened to kill me if I told anyone. . Part 1.\"),\n",
    "    outputs=\"text\",\n",
    "    title=\"Classification de Tweets avec BERT\",\n",
    "    description=\"Cette application classe un tweet en différents types à l'aide d'un modèle BERT entraîné.\"\n",
    ")\n",
    "\n",
    "interface.launch()"
   ]
  }
 ],
 "metadata": {
  "colab": {
   "provenance": []
  },
  "kernelspec": {
   "display_name": "Python 3 (ipykernel)",
   "language": "python",
   "name": "python3"
  },
  "language_info": {
   "codemirror_mode": {
    "name": "ipython",
    "version": 3
   },
   "file_extension": ".py",
   "mimetype": "text/x-python",
   "name": "python",
   "nbconvert_exporter": "python",
   "pygments_lexer": "ipython3",
   "version": "3.12.3"
  },
  "widgets": {
   "application/vnd.jupyter.widget-state+json": {
    "01249ee5c82b43a0af903f23d807c304": {
     "model_module": "@jupyter-widgets/controls",
     "model_module_version": "1.5.0",
     "model_name": "HTMLModel",
     "state": {
      "_dom_classes": [],
      "_model_module": "@jupyter-widgets/controls",
      "_model_module_version": "1.5.0",
      "_model_name": "HTMLModel",
      "_view_count": null,
      "_view_module": "@jupyter-widgets/controls",
      "_view_module_version": "1.5.0",
      "_view_name": "HTMLView",
      "description": "",
      "description_tooltip": null,
      "layout": "IPY_MODEL_5c46cd4f6b4a4c10ac85b8600a910697",
      "placeholder": "​",
      "style": "IPY_MODEL_f9d2e9899cf2424b9ca88bd7b2e68b4c",
      "value": "tokenizer.json: 100%"
     }
    },
    "16ec7d9d9fa44c3eabd13ba3f4ee866c": {
     "model_module": "@jupyter-widgets/controls",
     "model_module_version": "1.5.0",
     "model_name": "HTMLModel",
     "state": {
      "_dom_classes": [],
      "_model_module": "@jupyter-widgets/controls",
      "_model_module_version": "1.5.0",
      "_model_name": "HTMLModel",
      "_view_count": null,
      "_view_module": "@jupyter-widgets/controls",
      "_view_module_version": "1.5.0",
      "_view_name": "HTMLView",
      "description": "",
      "description_tooltip": null,
      "layout": "IPY_MODEL_472d50edd69049ffa6df54c2bccfc8b1",
      "placeholder": "​",
      "style": "IPY_MODEL_3933361d8e3b4423b8fc4f71b39c5752",
      "value": " 466k/466k [00:00&lt;00:00, 3.46MB/s]"
     }
    },
    "1c2ea6cbb0a04a32bc2589bb6f80ddee": {
     "model_module": "@jupyter-widgets/controls",
     "model_module_version": "1.5.0",
     "model_name": "FloatProgressModel",
     "state": {
      "_dom_classes": [],
      "_model_module": "@jupyter-widgets/controls",
      "_model_module_version": "1.5.0",
      "_model_name": "FloatProgressModel",
      "_view_count": null,
      "_view_module": "@jupyter-widgets/controls",
      "_view_module_version": "1.5.0",
      "_view_name": "ProgressView",
      "bar_style": "success",
      "description": "",
      "description_tooltip": null,
      "layout": "IPY_MODEL_20420ed22f0242959810c34d8049bc10",
      "max": 48,
      "min": 0,
      "orientation": "horizontal",
      "style": "IPY_MODEL_3ac26b735abf4aa99a58d13ed7804890",
      "value": 48
     }
    },
    "1ed5f49e551d450486b6f0a7a85fe0a6": {
     "model_module": "@jupyter-widgets/controls",
     "model_module_version": "1.5.0",
     "model_name": "DescriptionStyleModel",
     "state": {
      "_model_module": "@jupyter-widgets/controls",
      "_model_module_version": "1.5.0",
      "_model_name": "DescriptionStyleModel",
      "_view_count": null,
      "_view_module": "@jupyter-widgets/base",
      "_view_module_version": "1.2.0",
      "_view_name": "StyleView",
      "description_width": ""
     }
    },
    "1fe31181ff2345489912cb5e37ffae76": {
     "model_module": "@jupyter-widgets/controls",
     "model_module_version": "1.5.0",
     "model_name": "HTMLModel",
     "state": {
      "_dom_classes": [],
      "_model_module": "@jupyter-widgets/controls",
      "_model_module_version": "1.5.0",
      "_model_name": "HTMLModel",
      "_view_count": null,
      "_view_module": "@jupyter-widgets/controls",
      "_view_module_version": "1.5.0",
      "_view_name": "HTMLView",
      "description": "",
      "description_tooltip": null,
      "layout": "IPY_MODEL_8753ff5891d04eda9757ffacf1c69d0d",
      "placeholder": "​",
      "style": "IPY_MODEL_21ae0224fbd1428eb1742be51e6f96d0",
      "value": "model.safetensors: 100%"
     }
    },
    "20420ed22f0242959810c34d8049bc10": {
     "model_module": "@jupyter-widgets/base",
     "model_module_version": "1.2.0",
     "model_name": "LayoutModel",
     "state": {
      "_model_module": "@jupyter-widgets/base",
      "_model_module_version": "1.2.0",
      "_model_name": "LayoutModel",
      "_view_count": null,
      "_view_module": "@jupyter-widgets/base",
      "_view_module_version": "1.2.0",
      "_view_name": "LayoutView",
      "align_content": null,
      "align_items": null,
      "align_self": null,
      "border": null,
      "bottom": null,
      "display": null,
      "flex": null,
      "flex_flow": null,
      "grid_area": null,
      "grid_auto_columns": null,
      "grid_auto_flow": null,
      "grid_auto_rows": null,
      "grid_column": null,
      "grid_gap": null,
      "grid_row": null,
      "grid_template_areas": null,
      "grid_template_columns": null,
      "grid_template_rows": null,
      "height": null,
      "justify_content": null,
      "justify_items": null,
      "left": null,
      "margin": null,
      "max_height": null,
      "max_width": null,
      "min_height": null,
      "min_width": null,
      "object_fit": null,
      "object_position": null,
      "order": null,
      "overflow": null,
      "overflow_x": null,
      "overflow_y": null,
      "padding": null,
      "right": null,
      "top": null,
      "visibility": null,
      "width": null
     }
    },
    "21ae0224fbd1428eb1742be51e6f96d0": {
     "model_module": "@jupyter-widgets/controls",
     "model_module_version": "1.5.0",
     "model_name": "DescriptionStyleModel",
     "state": {
      "_model_module": "@jupyter-widgets/controls",
      "_model_module_version": "1.5.0",
      "_model_name": "DescriptionStyleModel",
      "_view_count": null,
      "_view_module": "@jupyter-widgets/base",
      "_view_module_version": "1.2.0",
      "_view_name": "StyleView",
      "description_width": ""
     }
    },
    "252b36e0122e4881a2c1b8678fe491fb": {
     "model_module": "@jupyter-widgets/controls",
     "model_module_version": "1.5.0",
     "model_name": "DescriptionStyleModel",
     "state": {
      "_model_module": "@jupyter-widgets/controls",
      "_model_module_version": "1.5.0",
      "_model_name": "DescriptionStyleModel",
      "_view_count": null,
      "_view_module": "@jupyter-widgets/base",
      "_view_module_version": "1.2.0",
      "_view_name": "StyleView",
      "description_width": ""
     }
    },
    "2670bfb3ec5e4354a61367c385e87310": {
     "model_module": "@jupyter-widgets/base",
     "model_module_version": "1.2.0",
     "model_name": "LayoutModel",
     "state": {
      "_model_module": "@jupyter-widgets/base",
      "_model_module_version": "1.2.0",
      "_model_name": "LayoutModel",
      "_view_count": null,
      "_view_module": "@jupyter-widgets/base",
      "_view_module_version": "1.2.0",
      "_view_name": "LayoutView",
      "align_content": null,
      "align_items": null,
      "align_self": null,
      "border": null,
      "bottom": null,
      "display": null,
      "flex": null,
      "flex_flow": null,
      "grid_area": null,
      "grid_auto_columns": null,
      "grid_auto_flow": null,
      "grid_auto_rows": null,
      "grid_column": null,
      "grid_gap": null,
      "grid_row": null,
      "grid_template_areas": null,
      "grid_template_columns": null,
      "grid_template_rows": null,
      "height": null,
      "justify_content": null,
      "justify_items": null,
      "left": null,
      "margin": null,
      "max_height": null,
      "max_width": null,
      "min_height": null,
      "min_width": null,
      "object_fit": null,
      "object_position": null,
      "order": null,
      "overflow": null,
      "overflow_x": null,
      "overflow_y": null,
      "padding": null,
      "right": null,
      "top": null,
      "visibility": null,
      "width": null
     }
    },
    "2859d318fcca4cf8a77c4543760c02d9": {
     "model_module": "@jupyter-widgets/base",
     "model_module_version": "1.2.0",
     "model_name": "LayoutModel",
     "state": {
      "_model_module": "@jupyter-widgets/base",
      "_model_module_version": "1.2.0",
      "_model_name": "LayoutModel",
      "_view_count": null,
      "_view_module": "@jupyter-widgets/base",
      "_view_module_version": "1.2.0",
      "_view_name": "LayoutView",
      "align_content": null,
      "align_items": null,
      "align_self": null,
      "border": null,
      "bottom": null,
      "display": null,
      "flex": null,
      "flex_flow": null,
      "grid_area": null,
      "grid_auto_columns": null,
      "grid_auto_flow": null,
      "grid_auto_rows": null,
      "grid_column": null,
      "grid_gap": null,
      "grid_row": null,
      "grid_template_areas": null,
      "grid_template_columns": null,
      "grid_template_rows": null,
      "height": null,
      "justify_content": null,
      "justify_items": null,
      "left": null,
      "margin": null,
      "max_height": null,
      "max_width": null,
      "min_height": null,
      "min_width": null,
      "object_fit": null,
      "object_position": null,
      "order": null,
      "overflow": null,
      "overflow_x": null,
      "overflow_y": null,
      "padding": null,
      "right": null,
      "top": null,
      "visibility": null,
      "width": null
     }
    },
    "350755497be24d8798ef78187dd97118": {
     "model_module": "@jupyter-widgets/controls",
     "model_module_version": "1.5.0",
     "model_name": "FloatProgressModel",
     "state": {
      "_dom_classes": [],
      "_model_module": "@jupyter-widgets/controls",
      "_model_module_version": "1.5.0",
      "_model_name": "FloatProgressModel",
      "_view_count": null,
      "_view_module": "@jupyter-widgets/controls",
      "_view_module_version": "1.5.0",
      "_view_name": "ProgressView",
      "bar_style": "success",
      "description": "",
      "description_tooltip": null,
      "layout": "IPY_MODEL_3c41be74f5eb43f789d88a5c13f108ef",
      "max": 440449768,
      "min": 0,
      "orientation": "horizontal",
      "style": "IPY_MODEL_b1108512de844cd2a73c2b7ee2dd8894",
      "value": 440449768
     }
    },
    "38a5ca17fd4b42c88f81176b47940397": {
     "model_module": "@jupyter-widgets/base",
     "model_module_version": "1.2.0",
     "model_name": "LayoutModel",
     "state": {
      "_model_module": "@jupyter-widgets/base",
      "_model_module_version": "1.2.0",
      "_model_name": "LayoutModel",
      "_view_count": null,
      "_view_module": "@jupyter-widgets/base",
      "_view_module_version": "1.2.0",
      "_view_name": "LayoutView",
      "align_content": null,
      "align_items": null,
      "align_self": null,
      "border": null,
      "bottom": null,
      "display": null,
      "flex": null,
      "flex_flow": null,
      "grid_area": null,
      "grid_auto_columns": null,
      "grid_auto_flow": null,
      "grid_auto_rows": null,
      "grid_column": null,
      "grid_gap": null,
      "grid_row": null,
      "grid_template_areas": null,
      "grid_template_columns": null,
      "grid_template_rows": null,
      "height": null,
      "justify_content": null,
      "justify_items": null,
      "left": null,
      "margin": null,
      "max_height": null,
      "max_width": null,
      "min_height": null,
      "min_width": null,
      "object_fit": null,
      "object_position": null,
      "order": null,
      "overflow": null,
      "overflow_x": null,
      "overflow_y": null,
      "padding": null,
      "right": null,
      "top": null,
      "visibility": null,
      "width": null
     }
    },
    "3933361d8e3b4423b8fc4f71b39c5752": {
     "model_module": "@jupyter-widgets/controls",
     "model_module_version": "1.5.0",
     "model_name": "DescriptionStyleModel",
     "state": {
      "_model_module": "@jupyter-widgets/controls",
      "_model_module_version": "1.5.0",
      "_model_name": "DescriptionStyleModel",
      "_view_count": null,
      "_view_module": "@jupyter-widgets/base",
      "_view_module_version": "1.2.0",
      "_view_name": "StyleView",
      "description_width": ""
     }
    },
    "3ac26b735abf4aa99a58d13ed7804890": {
     "model_module": "@jupyter-widgets/controls",
     "model_module_version": "1.5.0",
     "model_name": "ProgressStyleModel",
     "state": {
      "_model_module": "@jupyter-widgets/controls",
      "_model_module_version": "1.5.0",
      "_model_name": "ProgressStyleModel",
      "_view_count": null,
      "_view_module": "@jupyter-widgets/base",
      "_view_module_version": "1.2.0",
      "_view_name": "StyleView",
      "bar_color": null,
      "description_width": ""
     }
    },
    "3c41be74f5eb43f789d88a5c13f108ef": {
     "model_module": "@jupyter-widgets/base",
     "model_module_version": "1.2.0",
     "model_name": "LayoutModel",
     "state": {
      "_model_module": "@jupyter-widgets/base",
      "_model_module_version": "1.2.0",
      "_model_name": "LayoutModel",
      "_view_count": null,
      "_view_module": "@jupyter-widgets/base",
      "_view_module_version": "1.2.0",
      "_view_name": "LayoutView",
      "align_content": null,
      "align_items": null,
      "align_self": null,
      "border": null,
      "bottom": null,
      "display": null,
      "flex": null,
      "flex_flow": null,
      "grid_area": null,
      "grid_auto_columns": null,
      "grid_auto_flow": null,
      "grid_auto_rows": null,
      "grid_column": null,
      "grid_gap": null,
      "grid_row": null,
      "grid_template_areas": null,
      "grid_template_columns": null,
      "grid_template_rows": null,
      "height": null,
      "justify_content": null,
      "justify_items": null,
      "left": null,
      "margin": null,
      "max_height": null,
      "max_width": null,
      "min_height": null,
      "min_width": null,
      "object_fit": null,
      "object_position": null,
      "order": null,
      "overflow": null,
      "overflow_x": null,
      "overflow_y": null,
      "padding": null,
      "right": null,
      "top": null,
      "visibility": null,
      "width": null
     }
    },
    "3cbc1164cd624e40a0ad169283b8bb11": {
     "model_module": "@jupyter-widgets/controls",
     "model_module_version": "1.5.0",
     "model_name": "DescriptionStyleModel",
     "state": {
      "_model_module": "@jupyter-widgets/controls",
      "_model_module_version": "1.5.0",
      "_model_name": "DescriptionStyleModel",
      "_view_count": null,
      "_view_module": "@jupyter-widgets/base",
      "_view_module_version": "1.2.0",
      "_view_name": "StyleView",
      "description_width": ""
     }
    },
    "3ff031541db94468ac7391ba10e6c8f4": {
     "model_module": "@jupyter-widgets/controls",
     "model_module_version": "1.5.0",
     "model_name": "ProgressStyleModel",
     "state": {
      "_model_module": "@jupyter-widgets/controls",
      "_model_module_version": "1.5.0",
      "_model_name": "ProgressStyleModel",
      "_view_count": null,
      "_view_module": "@jupyter-widgets/base",
      "_view_module_version": "1.2.0",
      "_view_name": "StyleView",
      "bar_color": null,
      "description_width": ""
     }
    },
    "4428e6ae07634c839bba7c16b5880702": {
     "model_module": "@jupyter-widgets/controls",
     "model_module_version": "1.5.0",
     "model_name": "HTMLModel",
     "state": {
      "_dom_classes": [],
      "_model_module": "@jupyter-widgets/controls",
      "_model_module_version": "1.5.0",
      "_model_name": "HTMLModel",
      "_view_count": null,
      "_view_module": "@jupyter-widgets/controls",
      "_view_module_version": "1.5.0",
      "_view_name": "HTMLView",
      "description": "",
      "description_tooltip": null,
      "layout": "IPY_MODEL_38a5ca17fd4b42c88f81176b47940397",
      "placeholder": "​",
      "style": "IPY_MODEL_4541f16770e141a0bb1291d7c6a06235",
      "value": " 440M/440M [00:07&lt;00:00, 28.9MB/s]"
     }
    },
    "4541f16770e141a0bb1291d7c6a06235": {
     "model_module": "@jupyter-widgets/controls",
     "model_module_version": "1.5.0",
     "model_name": "DescriptionStyleModel",
     "state": {
      "_model_module": "@jupyter-widgets/controls",
      "_model_module_version": "1.5.0",
      "_model_name": "DescriptionStyleModel",
      "_view_count": null,
      "_view_module": "@jupyter-widgets/base",
      "_view_module_version": "1.2.0",
      "_view_name": "StyleView",
      "description_width": ""
     }
    },
    "472d50edd69049ffa6df54c2bccfc8b1": {
     "model_module": "@jupyter-widgets/base",
     "model_module_version": "1.2.0",
     "model_name": "LayoutModel",
     "state": {
      "_model_module": "@jupyter-widgets/base",
      "_model_module_version": "1.2.0",
      "_model_name": "LayoutModel",
      "_view_count": null,
      "_view_module": "@jupyter-widgets/base",
      "_view_module_version": "1.2.0",
      "_view_name": "LayoutView",
      "align_content": null,
      "align_items": null,
      "align_self": null,
      "border": null,
      "bottom": null,
      "display": null,
      "flex": null,
      "flex_flow": null,
      "grid_area": null,
      "grid_auto_columns": null,
      "grid_auto_flow": null,
      "grid_auto_rows": null,
      "grid_column": null,
      "grid_gap": null,
      "grid_row": null,
      "grid_template_areas": null,
      "grid_template_columns": null,
      "grid_template_rows": null,
      "height": null,
      "justify_content": null,
      "justify_items": null,
      "left": null,
      "margin": null,
      "max_height": null,
      "max_width": null,
      "min_height": null,
      "min_width": null,
      "object_fit": null,
      "object_position": null,
      "order": null,
      "overflow": null,
      "overflow_x": null,
      "overflow_y": null,
      "padding": null,
      "right": null,
      "top": null,
      "visibility": null,
      "width": null
     }
    },
    "56858b7fd9ff4aa4b8c1cbf9b80f8922": {
     "model_module": "@jupyter-widgets/controls",
     "model_module_version": "1.5.0",
     "model_name": "FloatProgressModel",
     "state": {
      "_dom_classes": [],
      "_model_module": "@jupyter-widgets/controls",
      "_model_module_version": "1.5.0",
      "_model_name": "FloatProgressModel",
      "_view_count": null,
      "_view_module": "@jupyter-widgets/controls",
      "_view_module_version": "1.5.0",
      "_view_name": "ProgressView",
      "bar_style": "success",
      "description": "",
      "description_tooltip": null,
      "layout": "IPY_MODEL_d2299b3d22fc4e40b55e7b8266411d01",
      "max": 570,
      "min": 0,
      "orientation": "horizontal",
      "style": "IPY_MODEL_8eddff144ee04be3918a11a653fc9254",
      "value": 570
     }
    },
    "5c46cd4f6b4a4c10ac85b8600a910697": {
     "model_module": "@jupyter-widgets/base",
     "model_module_version": "1.2.0",
     "model_name": "LayoutModel",
     "state": {
      "_model_module": "@jupyter-widgets/base",
      "_model_module_version": "1.2.0",
      "_model_name": "LayoutModel",
      "_view_count": null,
      "_view_module": "@jupyter-widgets/base",
      "_view_module_version": "1.2.0",
      "_view_name": "LayoutView",
      "align_content": null,
      "align_items": null,
      "align_self": null,
      "border": null,
      "bottom": null,
      "display": null,
      "flex": null,
      "flex_flow": null,
      "grid_area": null,
      "grid_auto_columns": null,
      "grid_auto_flow": null,
      "grid_auto_rows": null,
      "grid_column": null,
      "grid_gap": null,
      "grid_row": null,
      "grid_template_areas": null,
      "grid_template_columns": null,
      "grid_template_rows": null,
      "height": null,
      "justify_content": null,
      "justify_items": null,
      "left": null,
      "margin": null,
      "max_height": null,
      "max_width": null,
      "min_height": null,
      "min_width": null,
      "object_fit": null,
      "object_position": null,
      "order": null,
      "overflow": null,
      "overflow_x": null,
      "overflow_y": null,
      "padding": null,
      "right": null,
      "top": null,
      "visibility": null,
      "width": null
     }
    },
    "5ce5540e42a14aeb8eed5e16d540086e": {
     "model_module": "@jupyter-widgets/controls",
     "model_module_version": "1.5.0",
     "model_name": "DescriptionStyleModel",
     "state": {
      "_model_module": "@jupyter-widgets/controls",
      "_model_module_version": "1.5.0",
      "_model_name": "DescriptionStyleModel",
      "_view_count": null,
      "_view_module": "@jupyter-widgets/base",
      "_view_module_version": "1.2.0",
      "_view_name": "StyleView",
      "description_width": ""
     }
    },
    "5f27ec3889f144eb8d10a306e8f1348e": {
     "model_module": "@jupyter-widgets/controls",
     "model_module_version": "1.5.0",
     "model_name": "HTMLModel",
     "state": {
      "_dom_classes": [],
      "_model_module": "@jupyter-widgets/controls",
      "_model_module_version": "1.5.0",
      "_model_name": "HTMLModel",
      "_view_count": null,
      "_view_module": "@jupyter-widgets/controls",
      "_view_module_version": "1.5.0",
      "_view_name": "HTMLView",
      "description": "",
      "description_tooltip": null,
      "layout": "IPY_MODEL_d095429e42434f88bc417d68078ab8ef",
      "placeholder": "​",
      "style": "IPY_MODEL_3cbc1164cd624e40a0ad169283b8bb11",
      "value": " 570/570 [00:00&lt;00:00, 25.4kB/s]"
     }
    },
    "7b151134cffa47429097e6fcc74a611a": {
     "model_module": "@jupyter-widgets/controls",
     "model_module_version": "1.5.0",
     "model_name": "HBoxModel",
     "state": {
      "_dom_classes": [],
      "_model_module": "@jupyter-widgets/controls",
      "_model_module_version": "1.5.0",
      "_model_name": "HBoxModel",
      "_view_count": null,
      "_view_module": "@jupyter-widgets/controls",
      "_view_module_version": "1.5.0",
      "_view_name": "HBoxView",
      "box_style": "",
      "children": [
       "IPY_MODEL_bf8d8323d1b1431696d5d0c160c14d30",
       "IPY_MODEL_56858b7fd9ff4aa4b8c1cbf9b80f8922",
       "IPY_MODEL_5f27ec3889f144eb8d10a306e8f1348e"
      ],
      "layout": "IPY_MODEL_c57735ad408a42e5b29c0ab87257417c"
     }
    },
    "7c883b07ed044bc7b87768aee8990efb": {
     "model_module": "@jupyter-widgets/controls",
     "model_module_version": "1.5.0",
     "model_name": "DescriptionStyleModel",
     "state": {
      "_model_module": "@jupyter-widgets/controls",
      "_model_module_version": "1.5.0",
      "_model_name": "DescriptionStyleModel",
      "_view_count": null,
      "_view_module": "@jupyter-widgets/base",
      "_view_module_version": "1.2.0",
      "_view_name": "StyleView",
      "description_width": ""
     }
    },
    "839e10e1222f4e62a7e5ae2f6d760ded": {
     "model_module": "@jupyter-widgets/controls",
     "model_module_version": "1.5.0",
     "model_name": "HBoxModel",
     "state": {
      "_dom_classes": [],
      "_model_module": "@jupyter-widgets/controls",
      "_model_module_version": "1.5.0",
      "_model_name": "HBoxModel",
      "_view_count": null,
      "_view_module": "@jupyter-widgets/controls",
      "_view_module_version": "1.5.0",
      "_view_name": "HBoxView",
      "box_style": "",
      "children": [
       "IPY_MODEL_01249ee5c82b43a0af903f23d807c304",
       "IPY_MODEL_ce3ac13ba99b40fba2254906b72f51ec",
       "IPY_MODEL_16ec7d9d9fa44c3eabd13ba3f4ee866c"
      ],
      "layout": "IPY_MODEL_ef9182569ce34408a0709f2b21f1ce10"
     }
    },
    "8753ff5891d04eda9757ffacf1c69d0d": {
     "model_module": "@jupyter-widgets/base",
     "model_module_version": "1.2.0",
     "model_name": "LayoutModel",
     "state": {
      "_model_module": "@jupyter-widgets/base",
      "_model_module_version": "1.2.0",
      "_model_name": "LayoutModel",
      "_view_count": null,
      "_view_module": "@jupyter-widgets/base",
      "_view_module_version": "1.2.0",
      "_view_name": "LayoutView",
      "align_content": null,
      "align_items": null,
      "align_self": null,
      "border": null,
      "bottom": null,
      "display": null,
      "flex": null,
      "flex_flow": null,
      "grid_area": null,
      "grid_auto_columns": null,
      "grid_auto_flow": null,
      "grid_auto_rows": null,
      "grid_column": null,
      "grid_gap": null,
      "grid_row": null,
      "grid_template_areas": null,
      "grid_template_columns": null,
      "grid_template_rows": null,
      "height": null,
      "justify_content": null,
      "justify_items": null,
      "left": null,
      "margin": null,
      "max_height": null,
      "max_width": null,
      "min_height": null,
      "min_width": null,
      "object_fit": null,
      "object_position": null,
      "order": null,
      "overflow": null,
      "overflow_x": null,
      "overflow_y": null,
      "padding": null,
      "right": null,
      "top": null,
      "visibility": null,
      "width": null
     }
    },
    "8965b44b341d4c879d3f8a33cb698c13": {
     "model_module": "@jupyter-widgets/controls",
     "model_module_version": "1.5.0",
     "model_name": "HBoxModel",
     "state": {
      "_dom_classes": [],
      "_model_module": "@jupyter-widgets/controls",
      "_model_module_version": "1.5.0",
      "_model_name": "HBoxModel",
      "_view_count": null,
      "_view_module": "@jupyter-widgets/controls",
      "_view_module_version": "1.5.0",
      "_view_name": "HBoxView",
      "box_style": "",
      "children": [
       "IPY_MODEL_8ae1df7c48af4958bce696567878a82b",
       "IPY_MODEL_909d8df4bfc74965ae6ebe132fbb1b61",
       "IPY_MODEL_fb80818fa198419faf23b2f4363729b6"
      ],
      "layout": "IPY_MODEL_c4ecd24248184a33bda1ad70d30fad8b"
     }
    },
    "8ae1df7c48af4958bce696567878a82b": {
     "model_module": "@jupyter-widgets/controls",
     "model_module_version": "1.5.0",
     "model_name": "HTMLModel",
     "state": {
      "_dom_classes": [],
      "_model_module": "@jupyter-widgets/controls",
      "_model_module_version": "1.5.0",
      "_model_name": "HTMLModel",
      "_view_count": null,
      "_view_module": "@jupyter-widgets/controls",
      "_view_module_version": "1.5.0",
      "_view_name": "HTMLView",
      "description": "",
      "description_tooltip": null,
      "layout": "IPY_MODEL_963bd45c0be74ea6abe357f696df0718",
      "placeholder": "​",
      "style": "IPY_MODEL_1ed5f49e551d450486b6f0a7a85fe0a6",
      "value": "vocab.txt: 100%"
     }
    },
    "8eddff144ee04be3918a11a653fc9254": {
     "model_module": "@jupyter-widgets/controls",
     "model_module_version": "1.5.0",
     "model_name": "ProgressStyleModel",
     "state": {
      "_model_module": "@jupyter-widgets/controls",
      "_model_module_version": "1.5.0",
      "_model_name": "ProgressStyleModel",
      "_view_count": null,
      "_view_module": "@jupyter-widgets/base",
      "_view_module_version": "1.2.0",
      "_view_name": "StyleView",
      "bar_color": null,
      "description_width": ""
     }
    },
    "909d8df4bfc74965ae6ebe132fbb1b61": {
     "model_module": "@jupyter-widgets/controls",
     "model_module_version": "1.5.0",
     "model_name": "FloatProgressModel",
     "state": {
      "_dom_classes": [],
      "_model_module": "@jupyter-widgets/controls",
      "_model_module_version": "1.5.0",
      "_model_name": "FloatProgressModel",
      "_view_count": null,
      "_view_module": "@jupyter-widgets/controls",
      "_view_module_version": "1.5.0",
      "_view_name": "ProgressView",
      "bar_style": "success",
      "description": "",
      "description_tooltip": null,
      "layout": "IPY_MODEL_d000efa58e594270964abde1488b7dec",
      "max": 231508,
      "min": 0,
      "orientation": "horizontal",
      "style": "IPY_MODEL_3ff031541db94468ac7391ba10e6c8f4",
      "value": 231508
     }
    },
    "9551894ca21a4b6badcafd6e483549d3": {
     "model_module": "@jupyter-widgets/base",
     "model_module_version": "1.2.0",
     "model_name": "LayoutModel",
     "state": {
      "_model_module": "@jupyter-widgets/base",
      "_model_module_version": "1.2.0",
      "_model_name": "LayoutModel",
      "_view_count": null,
      "_view_module": "@jupyter-widgets/base",
      "_view_module_version": "1.2.0",
      "_view_name": "LayoutView",
      "align_content": null,
      "align_items": null,
      "align_self": null,
      "border": null,
      "bottom": null,
      "display": null,
      "flex": null,
      "flex_flow": null,
      "grid_area": null,
      "grid_auto_columns": null,
      "grid_auto_flow": null,
      "grid_auto_rows": null,
      "grid_column": null,
      "grid_gap": null,
      "grid_row": null,
      "grid_template_areas": null,
      "grid_template_columns": null,
      "grid_template_rows": null,
      "height": null,
      "justify_content": null,
      "justify_items": null,
      "left": null,
      "margin": null,
      "max_height": null,
      "max_width": null,
      "min_height": null,
      "min_width": null,
      "object_fit": null,
      "object_position": null,
      "order": null,
      "overflow": null,
      "overflow_x": null,
      "overflow_y": null,
      "padding": null,
      "right": null,
      "top": null,
      "visibility": null,
      "width": null
     }
    },
    "963bd45c0be74ea6abe357f696df0718": {
     "model_module": "@jupyter-widgets/base",
     "model_module_version": "1.2.0",
     "model_name": "LayoutModel",
     "state": {
      "_model_module": "@jupyter-widgets/base",
      "_model_module_version": "1.2.0",
      "_model_name": "LayoutModel",
      "_view_count": null,
      "_view_module": "@jupyter-widgets/base",
      "_view_module_version": "1.2.0",
      "_view_name": "LayoutView",
      "align_content": null,
      "align_items": null,
      "align_self": null,
      "border": null,
      "bottom": null,
      "display": null,
      "flex": null,
      "flex_flow": null,
      "grid_area": null,
      "grid_auto_columns": null,
      "grid_auto_flow": null,
      "grid_auto_rows": null,
      "grid_column": null,
      "grid_gap": null,
      "grid_row": null,
      "grid_template_areas": null,
      "grid_template_columns": null,
      "grid_template_rows": null,
      "height": null,
      "justify_content": null,
      "justify_items": null,
      "left": null,
      "margin": null,
      "max_height": null,
      "max_width": null,
      "min_height": null,
      "min_width": null,
      "object_fit": null,
      "object_position": null,
      "order": null,
      "overflow": null,
      "overflow_x": null,
      "overflow_y": null,
      "padding": null,
      "right": null,
      "top": null,
      "visibility": null,
      "width": null
     }
    },
    "973e36a040e84aab915b257b06124639": {
     "model_module": "@jupyter-widgets/base",
     "model_module_version": "1.2.0",
     "model_name": "LayoutModel",
     "state": {
      "_model_module": "@jupyter-widgets/base",
      "_model_module_version": "1.2.0",
      "_model_name": "LayoutModel",
      "_view_count": null,
      "_view_module": "@jupyter-widgets/base",
      "_view_module_version": "1.2.0",
      "_view_name": "LayoutView",
      "align_content": null,
      "align_items": null,
      "align_self": null,
      "border": null,
      "bottom": null,
      "display": null,
      "flex": null,
      "flex_flow": null,
      "grid_area": null,
      "grid_auto_columns": null,
      "grid_auto_flow": null,
      "grid_auto_rows": null,
      "grid_column": null,
      "grid_gap": null,
      "grid_row": null,
      "grid_template_areas": null,
      "grid_template_columns": null,
      "grid_template_rows": null,
      "height": null,
      "justify_content": null,
      "justify_items": null,
      "left": null,
      "margin": null,
      "max_height": null,
      "max_width": null,
      "min_height": null,
      "min_width": null,
      "object_fit": null,
      "object_position": null,
      "order": null,
      "overflow": null,
      "overflow_x": null,
      "overflow_y": null,
      "padding": null,
      "right": null,
      "top": null,
      "visibility": null,
      "width": null
     }
    },
    "a7bf8abe19904173aef84d7b21dab82f": {
     "model_module": "@jupyter-widgets/base",
     "model_module_version": "1.2.0",
     "model_name": "LayoutModel",
     "state": {
      "_model_module": "@jupyter-widgets/base",
      "_model_module_version": "1.2.0",
      "_model_name": "LayoutModel",
      "_view_count": null,
      "_view_module": "@jupyter-widgets/base",
      "_view_module_version": "1.2.0",
      "_view_name": "LayoutView",
      "align_content": null,
      "align_items": null,
      "align_self": null,
      "border": null,
      "bottom": null,
      "display": null,
      "flex": null,
      "flex_flow": null,
      "grid_area": null,
      "grid_auto_columns": null,
      "grid_auto_flow": null,
      "grid_auto_rows": null,
      "grid_column": null,
      "grid_gap": null,
      "grid_row": null,
      "grid_template_areas": null,
      "grid_template_columns": null,
      "grid_template_rows": null,
      "height": null,
      "justify_content": null,
      "justify_items": null,
      "left": null,
      "margin": null,
      "max_height": null,
      "max_width": null,
      "min_height": null,
      "min_width": null,
      "object_fit": null,
      "object_position": null,
      "order": null,
      "overflow": null,
      "overflow_x": null,
      "overflow_y": null,
      "padding": null,
      "right": null,
      "top": null,
      "visibility": null,
      "width": null
     }
    },
    "aa02eb6defc048089b48ebfef1b5638a": {
     "model_module": "@jupyter-widgets/base",
     "model_module_version": "1.2.0",
     "model_name": "LayoutModel",
     "state": {
      "_model_module": "@jupyter-widgets/base",
      "_model_module_version": "1.2.0",
      "_model_name": "LayoutModel",
      "_view_count": null,
      "_view_module": "@jupyter-widgets/base",
      "_view_module_version": "1.2.0",
      "_view_name": "LayoutView",
      "align_content": null,
      "align_items": null,
      "align_self": null,
      "border": null,
      "bottom": null,
      "display": null,
      "flex": null,
      "flex_flow": null,
      "grid_area": null,
      "grid_auto_columns": null,
      "grid_auto_flow": null,
      "grid_auto_rows": null,
      "grid_column": null,
      "grid_gap": null,
      "grid_row": null,
      "grid_template_areas": null,
      "grid_template_columns": null,
      "grid_template_rows": null,
      "height": null,
      "justify_content": null,
      "justify_items": null,
      "left": null,
      "margin": null,
      "max_height": null,
      "max_width": null,
      "min_height": null,
      "min_width": null,
      "object_fit": null,
      "object_position": null,
      "order": null,
      "overflow": null,
      "overflow_x": null,
      "overflow_y": null,
      "padding": null,
      "right": null,
      "top": null,
      "visibility": null,
      "width": null
     }
    },
    "b1108512de844cd2a73c2b7ee2dd8894": {
     "model_module": "@jupyter-widgets/controls",
     "model_module_version": "1.5.0",
     "model_name": "ProgressStyleModel",
     "state": {
      "_model_module": "@jupyter-widgets/controls",
      "_model_module_version": "1.5.0",
      "_model_name": "ProgressStyleModel",
      "_view_count": null,
      "_view_module": "@jupyter-widgets/base",
      "_view_module_version": "1.2.0",
      "_view_name": "StyleView",
      "bar_color": null,
      "description_width": ""
     }
    },
    "b182c6806dba4e09a624f02d1756f00c": {
     "model_module": "@jupyter-widgets/controls",
     "model_module_version": "1.5.0",
     "model_name": "HTMLModel",
     "state": {
      "_dom_classes": [],
      "_model_module": "@jupyter-widgets/controls",
      "_model_module_version": "1.5.0",
      "_model_name": "HTMLModel",
      "_view_count": null,
      "_view_module": "@jupyter-widgets/controls",
      "_view_module_version": "1.5.0",
      "_view_name": "HTMLView",
      "description": "",
      "description_tooltip": null,
      "layout": "IPY_MODEL_aa02eb6defc048089b48ebfef1b5638a",
      "placeholder": "​",
      "style": "IPY_MODEL_5ce5540e42a14aeb8eed5e16d540086e",
      "value": " 48.0/48.0 [00:00&lt;00:00, 3.07kB/s]"
     }
    },
    "b50a5143019c4d1d875bc86684cbf80a": {
     "model_module": "@jupyter-widgets/controls",
     "model_module_version": "1.5.0",
     "model_name": "HBoxModel",
     "state": {
      "_dom_classes": [],
      "_model_module": "@jupyter-widgets/controls",
      "_model_module_version": "1.5.0",
      "_model_name": "HBoxModel",
      "_view_count": null,
      "_view_module": "@jupyter-widgets/controls",
      "_view_module_version": "1.5.0",
      "_view_name": "HBoxView",
      "box_style": "",
      "children": [
       "IPY_MODEL_e9102330760647a8a20c6c42090c4538",
       "IPY_MODEL_1c2ea6cbb0a04a32bc2589bb6f80ddee",
       "IPY_MODEL_b182c6806dba4e09a624f02d1756f00c"
      ],
      "layout": "IPY_MODEL_2859d318fcca4cf8a77c4543760c02d9"
     }
    },
    "b76305d336e1444badb6561dd6d79d31": {
     "model_module": "@jupyter-widgets/controls",
     "model_module_version": "1.5.0",
     "model_name": "HBoxModel",
     "state": {
      "_dom_classes": [],
      "_model_module": "@jupyter-widgets/controls",
      "_model_module_version": "1.5.0",
      "_model_name": "HBoxModel",
      "_view_count": null,
      "_view_module": "@jupyter-widgets/controls",
      "_view_module_version": "1.5.0",
      "_view_name": "HBoxView",
      "box_style": "",
      "children": [
       "IPY_MODEL_1fe31181ff2345489912cb5e37ffae76",
       "IPY_MODEL_350755497be24d8798ef78187dd97118",
       "IPY_MODEL_4428e6ae07634c839bba7c16b5880702"
      ],
      "layout": "IPY_MODEL_a7bf8abe19904173aef84d7b21dab82f"
     }
    },
    "bf8d8323d1b1431696d5d0c160c14d30": {
     "model_module": "@jupyter-widgets/controls",
     "model_module_version": "1.5.0",
     "model_name": "HTMLModel",
     "state": {
      "_dom_classes": [],
      "_model_module": "@jupyter-widgets/controls",
      "_model_module_version": "1.5.0",
      "_model_name": "HTMLModel",
      "_view_count": null,
      "_view_module": "@jupyter-widgets/controls",
      "_view_module_version": "1.5.0",
      "_view_name": "HTMLView",
      "description": "",
      "description_tooltip": null,
      "layout": "IPY_MODEL_2670bfb3ec5e4354a61367c385e87310",
      "placeholder": "​",
      "style": "IPY_MODEL_7c883b07ed044bc7b87768aee8990efb",
      "value": "config.json: 100%"
     }
    },
    "c4ecd24248184a33bda1ad70d30fad8b": {
     "model_module": "@jupyter-widgets/base",
     "model_module_version": "1.2.0",
     "model_name": "LayoutModel",
     "state": {
      "_model_module": "@jupyter-widgets/base",
      "_model_module_version": "1.2.0",
      "_model_name": "LayoutModel",
      "_view_count": null,
      "_view_module": "@jupyter-widgets/base",
      "_view_module_version": "1.2.0",
      "_view_name": "LayoutView",
      "align_content": null,
      "align_items": null,
      "align_self": null,
      "border": null,
      "bottom": null,
      "display": null,
      "flex": null,
      "flex_flow": null,
      "grid_area": null,
      "grid_auto_columns": null,
      "grid_auto_flow": null,
      "grid_auto_rows": null,
      "grid_column": null,
      "grid_gap": null,
      "grid_row": null,
      "grid_template_areas": null,
      "grid_template_columns": null,
      "grid_template_rows": null,
      "height": null,
      "justify_content": null,
      "justify_items": null,
      "left": null,
      "margin": null,
      "max_height": null,
      "max_width": null,
      "min_height": null,
      "min_width": null,
      "object_fit": null,
      "object_position": null,
      "order": null,
      "overflow": null,
      "overflow_x": null,
      "overflow_y": null,
      "padding": null,
      "right": null,
      "top": null,
      "visibility": null,
      "width": null
     }
    },
    "c57735ad408a42e5b29c0ab87257417c": {
     "model_module": "@jupyter-widgets/base",
     "model_module_version": "1.2.0",
     "model_name": "LayoutModel",
     "state": {
      "_model_module": "@jupyter-widgets/base",
      "_model_module_version": "1.2.0",
      "_model_name": "LayoutModel",
      "_view_count": null,
      "_view_module": "@jupyter-widgets/base",
      "_view_module_version": "1.2.0",
      "_view_name": "LayoutView",
      "align_content": null,
      "align_items": null,
      "align_self": null,
      "border": null,
      "bottom": null,
      "display": null,
      "flex": null,
      "flex_flow": null,
      "grid_area": null,
      "grid_auto_columns": null,
      "grid_auto_flow": null,
      "grid_auto_rows": null,
      "grid_column": null,
      "grid_gap": null,
      "grid_row": null,
      "grid_template_areas": null,
      "grid_template_columns": null,
      "grid_template_rows": null,
      "height": null,
      "justify_content": null,
      "justify_items": null,
      "left": null,
      "margin": null,
      "max_height": null,
      "max_width": null,
      "min_height": null,
      "min_width": null,
      "object_fit": null,
      "object_position": null,
      "order": null,
      "overflow": null,
      "overflow_x": null,
      "overflow_y": null,
      "padding": null,
      "right": null,
      "top": null,
      "visibility": null,
      "width": null
     }
    },
    "ce3ac13ba99b40fba2254906b72f51ec": {
     "model_module": "@jupyter-widgets/controls",
     "model_module_version": "1.5.0",
     "model_name": "FloatProgressModel",
     "state": {
      "_dom_classes": [],
      "_model_module": "@jupyter-widgets/controls",
      "_model_module_version": "1.5.0",
      "_model_name": "FloatProgressModel",
      "_view_count": null,
      "_view_module": "@jupyter-widgets/controls",
      "_view_module_version": "1.5.0",
      "_view_name": "ProgressView",
      "bar_style": "success",
      "description": "",
      "description_tooltip": null,
      "layout": "IPY_MODEL_fbeafe78251e4a409e2147bfe1c878eb",
      "max": 466062,
      "min": 0,
      "orientation": "horizontal",
      "style": "IPY_MODEL_d8e5c1df77304dd8863f73ed6196ca1d",
      "value": 466062
     }
    },
    "d000efa58e594270964abde1488b7dec": {
     "model_module": "@jupyter-widgets/base",
     "model_module_version": "1.2.0",
     "model_name": "LayoutModel",
     "state": {
      "_model_module": "@jupyter-widgets/base",
      "_model_module_version": "1.2.0",
      "_model_name": "LayoutModel",
      "_view_count": null,
      "_view_module": "@jupyter-widgets/base",
      "_view_module_version": "1.2.0",
      "_view_name": "LayoutView",
      "align_content": null,
      "align_items": null,
      "align_self": null,
      "border": null,
      "bottom": null,
      "display": null,
      "flex": null,
      "flex_flow": null,
      "grid_area": null,
      "grid_auto_columns": null,
      "grid_auto_flow": null,
      "grid_auto_rows": null,
      "grid_column": null,
      "grid_gap": null,
      "grid_row": null,
      "grid_template_areas": null,
      "grid_template_columns": null,
      "grid_template_rows": null,
      "height": null,
      "justify_content": null,
      "justify_items": null,
      "left": null,
      "margin": null,
      "max_height": null,
      "max_width": null,
      "min_height": null,
      "min_width": null,
      "object_fit": null,
      "object_position": null,
      "order": null,
      "overflow": null,
      "overflow_x": null,
      "overflow_y": null,
      "padding": null,
      "right": null,
      "top": null,
      "visibility": null,
      "width": null
     }
    },
    "d095429e42434f88bc417d68078ab8ef": {
     "model_module": "@jupyter-widgets/base",
     "model_module_version": "1.2.0",
     "model_name": "LayoutModel",
     "state": {
      "_model_module": "@jupyter-widgets/base",
      "_model_module_version": "1.2.0",
      "_model_name": "LayoutModel",
      "_view_count": null,
      "_view_module": "@jupyter-widgets/base",
      "_view_module_version": "1.2.0",
      "_view_name": "LayoutView",
      "align_content": null,
      "align_items": null,
      "align_self": null,
      "border": null,
      "bottom": null,
      "display": null,
      "flex": null,
      "flex_flow": null,
      "grid_area": null,
      "grid_auto_columns": null,
      "grid_auto_flow": null,
      "grid_auto_rows": null,
      "grid_column": null,
      "grid_gap": null,
      "grid_row": null,
      "grid_template_areas": null,
      "grid_template_columns": null,
      "grid_template_rows": null,
      "height": null,
      "justify_content": null,
      "justify_items": null,
      "left": null,
      "margin": null,
      "max_height": null,
      "max_width": null,
      "min_height": null,
      "min_width": null,
      "object_fit": null,
      "object_position": null,
      "order": null,
      "overflow": null,
      "overflow_x": null,
      "overflow_y": null,
      "padding": null,
      "right": null,
      "top": null,
      "visibility": null,
      "width": null
     }
    },
    "d0b5a6173ca54d7aa911ebf5158f2cb3": {
     "model_module": "@jupyter-widgets/controls",
     "model_module_version": "1.5.0",
     "model_name": "DescriptionStyleModel",
     "state": {
      "_model_module": "@jupyter-widgets/controls",
      "_model_module_version": "1.5.0",
      "_model_name": "DescriptionStyleModel",
      "_view_count": null,
      "_view_module": "@jupyter-widgets/base",
      "_view_module_version": "1.2.0",
      "_view_name": "StyleView",
      "description_width": ""
     }
    },
    "d2299b3d22fc4e40b55e7b8266411d01": {
     "model_module": "@jupyter-widgets/base",
     "model_module_version": "1.2.0",
     "model_name": "LayoutModel",
     "state": {
      "_model_module": "@jupyter-widgets/base",
      "_model_module_version": "1.2.0",
      "_model_name": "LayoutModel",
      "_view_count": null,
      "_view_module": "@jupyter-widgets/base",
      "_view_module_version": "1.2.0",
      "_view_name": "LayoutView",
      "align_content": null,
      "align_items": null,
      "align_self": null,
      "border": null,
      "bottom": null,
      "display": null,
      "flex": null,
      "flex_flow": null,
      "grid_area": null,
      "grid_auto_columns": null,
      "grid_auto_flow": null,
      "grid_auto_rows": null,
      "grid_column": null,
      "grid_gap": null,
      "grid_row": null,
      "grid_template_areas": null,
      "grid_template_columns": null,
      "grid_template_rows": null,
      "height": null,
      "justify_content": null,
      "justify_items": null,
      "left": null,
      "margin": null,
      "max_height": null,
      "max_width": null,
      "min_height": null,
      "min_width": null,
      "object_fit": null,
      "object_position": null,
      "order": null,
      "overflow": null,
      "overflow_x": null,
      "overflow_y": null,
      "padding": null,
      "right": null,
      "top": null,
      "visibility": null,
      "width": null
     }
    },
    "d8e5c1df77304dd8863f73ed6196ca1d": {
     "model_module": "@jupyter-widgets/controls",
     "model_module_version": "1.5.0",
     "model_name": "ProgressStyleModel",
     "state": {
      "_model_module": "@jupyter-widgets/controls",
      "_model_module_version": "1.5.0",
      "_model_name": "ProgressStyleModel",
      "_view_count": null,
      "_view_module": "@jupyter-widgets/base",
      "_view_module_version": "1.2.0",
      "_view_name": "StyleView",
      "bar_color": null,
      "description_width": ""
     }
    },
    "e9102330760647a8a20c6c42090c4538": {
     "model_module": "@jupyter-widgets/controls",
     "model_module_version": "1.5.0",
     "model_name": "HTMLModel",
     "state": {
      "_dom_classes": [],
      "_model_module": "@jupyter-widgets/controls",
      "_model_module_version": "1.5.0",
      "_model_name": "HTMLModel",
      "_view_count": null,
      "_view_module": "@jupyter-widgets/controls",
      "_view_module_version": "1.5.0",
      "_view_name": "HTMLView",
      "description": "",
      "description_tooltip": null,
      "layout": "IPY_MODEL_9551894ca21a4b6badcafd6e483549d3",
      "placeholder": "​",
      "style": "IPY_MODEL_252b36e0122e4881a2c1b8678fe491fb",
      "value": "tokenizer_config.json: 100%"
     }
    },
    "ef9182569ce34408a0709f2b21f1ce10": {
     "model_module": "@jupyter-widgets/base",
     "model_module_version": "1.2.0",
     "model_name": "LayoutModel",
     "state": {
      "_model_module": "@jupyter-widgets/base",
      "_model_module_version": "1.2.0",
      "_model_name": "LayoutModel",
      "_view_count": null,
      "_view_module": "@jupyter-widgets/base",
      "_view_module_version": "1.2.0",
      "_view_name": "LayoutView",
      "align_content": null,
      "align_items": null,
      "align_self": null,
      "border": null,
      "bottom": null,
      "display": null,
      "flex": null,
      "flex_flow": null,
      "grid_area": null,
      "grid_auto_columns": null,
      "grid_auto_flow": null,
      "grid_auto_rows": null,
      "grid_column": null,
      "grid_gap": null,
      "grid_row": null,
      "grid_template_areas": null,
      "grid_template_columns": null,
      "grid_template_rows": null,
      "height": null,
      "justify_content": null,
      "justify_items": null,
      "left": null,
      "margin": null,
      "max_height": null,
      "max_width": null,
      "min_height": null,
      "min_width": null,
      "object_fit": null,
      "object_position": null,
      "order": null,
      "overflow": null,
      "overflow_x": null,
      "overflow_y": null,
      "padding": null,
      "right": null,
      "top": null,
      "visibility": null,
      "width": null
     }
    },
    "f9d2e9899cf2424b9ca88bd7b2e68b4c": {
     "model_module": "@jupyter-widgets/controls",
     "model_module_version": "1.5.0",
     "model_name": "DescriptionStyleModel",
     "state": {
      "_model_module": "@jupyter-widgets/controls",
      "_model_module_version": "1.5.0",
      "_model_name": "DescriptionStyleModel",
      "_view_count": null,
      "_view_module": "@jupyter-widgets/base",
      "_view_module_version": "1.2.0",
      "_view_name": "StyleView",
      "description_width": ""
     }
    },
    "fb80818fa198419faf23b2f4363729b6": {
     "model_module": "@jupyter-widgets/controls",
     "model_module_version": "1.5.0",
     "model_name": "HTMLModel",
     "state": {
      "_dom_classes": [],
      "_model_module": "@jupyter-widgets/controls",
      "_model_module_version": "1.5.0",
      "_model_name": "HTMLModel",
      "_view_count": null,
      "_view_module": "@jupyter-widgets/controls",
      "_view_module_version": "1.5.0",
      "_view_name": "HTMLView",
      "description": "",
      "description_tooltip": null,
      "layout": "IPY_MODEL_973e36a040e84aab915b257b06124639",
      "placeholder": "​",
      "style": "IPY_MODEL_d0b5a6173ca54d7aa911ebf5158f2cb3",
      "value": " 232k/232k [00:00&lt;00:00, 1.88MB/s]"
     }
    },
    "fbeafe78251e4a409e2147bfe1c878eb": {
     "model_module": "@jupyter-widgets/base",
     "model_module_version": "1.2.0",
     "model_name": "LayoutModel",
     "state": {
      "_model_module": "@jupyter-widgets/base",
      "_model_module_version": "1.2.0",
      "_model_name": "LayoutModel",
      "_view_count": null,
      "_view_module": "@jupyter-widgets/base",
      "_view_module_version": "1.2.0",
      "_view_name": "LayoutView",
      "align_content": null,
      "align_items": null,
      "align_self": null,
      "border": null,
      "bottom": null,
      "display": null,
      "flex": null,
      "flex_flow": null,
      "grid_area": null,
      "grid_auto_columns": null,
      "grid_auto_flow": null,
      "grid_auto_rows": null,
      "grid_column": null,
      "grid_gap": null,
      "grid_row": null,
      "grid_template_areas": null,
      "grid_template_columns": null,
      "grid_template_rows": null,
      "height": null,
      "justify_content": null,
      "justify_items": null,
      "left": null,
      "margin": null,
      "max_height": null,
      "max_width": null,
      "min_height": null,
      "min_width": null,
      "object_fit": null,
      "object_position": null,
      "order": null,
      "overflow": null,
      "overflow_x": null,
      "overflow_y": null,
      "padding": null,
      "right": null,
      "top": null,
      "visibility": null,
      "width": null
     }
    }
   }
  }
 },
 "nbformat": 4,
 "nbformat_minor": 4
}
